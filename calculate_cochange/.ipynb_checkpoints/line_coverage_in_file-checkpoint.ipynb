{
 "cells": [
  {
   "cell_type": "code",
   "execution_count": 1,
   "metadata": {},
   "outputs": [],
   "source": [
    "# This file calculates Line coverage by clones in each of the files detected by Detectors"
   ]
  },
  {
   "cell_type": "code",
   "execution_count": 2,
   "metadata": {},
   "outputs": [],
   "source": [
    "import pandas as pd\n",
    "import mysql.connector\n",
    "from mysql.connector import Error"
   ]
  },
  {
   "cell_type": "code",
   "execution_count": 3,
   "metadata": {},
   "outputs": [],
   "source": [
    "data_loc =\"C:/Users/MD NADIM/Documents/NetBeansProjects/FindCochangeByClone/data_files/final_dataset/\""
   ]
  },
  {
   "cell_type": "code",
   "execution_count": 4,
   "metadata": {},
   "outputs": [
    {
     "name": "stdout",
     "output_type": "stream",
     "text": [
      "SELECT * FROM `clones_deckard_2_0` ORDER BY `version`, `file_name`, `startline`, `endline`\n",
      "6883638\n"
     ]
    }
   ],
   "source": [
    "# List of Subject Systems and Clone Detectors!!!\n",
    "# subject_systems=[\"brlcad\", \"carol\", \"ctags\", \"freecol\", \"jabref\", \"jedit\"]\n",
    "# clone_detectors=[\"conqat\", \"deckard\", \"iclones\", \"nicad5\", \"simcad\", \"simian\"]\n",
    "\n",
    "# This is the declaration if you want to check the functinality for one subject sytems and clone detector. \n",
    "subject_systems=[\"brlcad\"]\n",
    "clone_detectors=[\"conqat\"]\n",
    "\n",
    "\n",
    "# Work for every subject systems. \n",
    "for ss in subject_systems: \n",
    "    try:\n",
    "        mySQLconnection = mysql.connector.connect(host='localhost',\n",
    "                                 database='cochange_'+ss,\n",
    "                                 #database='vua',                 \n",
    "                                 user='root',\n",
    "                                 password='')        \n",
    "\n",
    "        cursor1 = mySQLconnection.cursor()\n",
    "        query=\"SELECT * FROM `clones_deckard_2_0` ORDER BY `version`, `file_name`, `startline`, `endline`\"\n",
    "        print(query)\n",
    "        cursor1.execute(query)\n",
    "        records = cursor1.fetchall()\n",
    "        \n",
    "        print(len(records))\n",
    "\n",
    "\n",
    "    except Error as e:\n",
    "        print(\"Error reading data from MySQL table\", e, ss)\n",
    "    finally:\n",
    "        if (mySQLconnection.is_connected()):\n",
    "            mySQLconnection.close()\n",
    "            cursor1.close()\n",
    "            #print(\"MySQL connection is closed\")"
   ]
  },
  {
   "cell_type": "code",
   "execution_count": 15,
   "metadata": {},
   "outputs": [
    {
     "name": "stdout",
     "output_type": "stream",
     "text": [
      "3 jove/jove_draw.c 81 96 16\n",
      "3 jove/jove_draw.c 128 140 8\n",
      "3 jove/jove_draw.c 135 141 7\n",
      "3 jove/jove_draw.c 176 180 1\n",
      "3 jove/jove_draw.c 176 180 5\n",
      "3 jove/jove_draw.c 186 192 2\n",
      "3 jove/jove_draw.c 187 191 1\n",
      "3 jove/jove_draw.c 187 191 5\n",
      "3 jove/jove_draw.c 405 413 5\n",
      "3 jove/jove_draw.c 409 417 5\n",
      "3 jove/jove_draw.c 413 424 12\n",
      "3 jove/jove_draw.c 424 429 6\n"
     ]
    }
   ],
   "source": [
    "num_lines=0\n",
    "\n",
    "old_rev=records[0][1]\n",
    "old_filename=records[0][3]\n",
    "old_sline=records[0][4]\n",
    "old_eline=records[0][5]\n",
    "for i in range(1, len(records)):\n",
    "    cur_rev=records[i][1]\n",
    "    cur_filename=records[i][3]\n",
    "    cur_sline=records[i][4]\n",
    "    cur_eline=records[i][5]\n",
    "    if(cur_rev!=old_rev or cur_filename!=old_filename):\n",
    "        break\n",
    "    else:\n",
    "        if(cur_sline<=old_eline):\n",
    "            print(old_rev, old_filename, old_sline, old_eline, cur_sline-old_sline)\n",
    "        else: \n",
    "            print(old_rev, old_filename, old_sline, old_eline, old_eline-old_sline+1)\n",
    "        \n",
    "        old_rev=cur_rev\n",
    "        old_filename=cur_filename\n",
    "        old_sline=cur_sline\n",
    "        old_eline=cur_eline"
   ]
  },
  {
   "cell_type": "code",
   "execution_count": 16,
   "metadata": {},
   "outputs": [
    {
     "name": "stdout",
     "output_type": "stream",
     "text": [
      "brlcad\n",
      "carol\n",
      "ctags\n",
      "freecol\n",
      "jabref\n",
      "jedit\n"
     ]
    }
   ],
   "source": [
    "# List of Subject Systems and Clone Detectors!!!\n",
    "subject_systems=[\"brlcad\", \"carol\", \"ctags\", \"freecol\", \"jabref\", \"jedit\"]\n",
    "clone_detectors=[\"conqat\", \"deckard\", \"iclones\", \"nicad5\", \"simcad\", \"simian\"]\n",
    "\n",
    "# This is the declaration if you want to check the functinality for one subject sytems and clone detector. \n",
    "# subject_systems=[\"brlcad\"]\n",
    "# clone_detectors=[\"conqat\"]\n",
    "\n",
    "\n",
    "# Work for every subject systems. \n",
    "for ss in subject_systems: \n",
    "    try:\n",
    "        mySQLconnection = mysql.connector.connect(host='localhost',\n",
    "                                 database='cochange_'+ss,\n",
    "                                 #database='vua',                 \n",
    "                                 user='root',\n",
    "                                 password='')        \n",
    "\n",
    "        cursor1 = mySQLconnection.cursor()\n",
    "\n",
    "        # Read the cochange file stored in CSV. \n",
    "        df_cochange = pd.read_csv(data_loc+\"all_performance_files/\"+ss+\"_performance.csv\", sep=',', header=0, encoding='utf-8')\n",
    "        result_set = [[\"change_id\", \"num_all_cochange\", \"num_cloned_cochange\"]]\n",
    "\n",
    "        print(ss)\n",
    "        for i in range(len(df_cochange)):\n",
    "            query=\"SELECT COUNT(`id`)-1 total_cc FROM `change_info`WHERE `version`=(SELECT `version` FROM `change_info` WHERE `id`='\"+str(df_cochange[\"change_id\"][i])+\"')\"\n",
    "            cursor1.execute(query)\n",
    "            records = cursor1.fetchall()\n",
    "            #if(records[0][0]<1):   #For debugging, if any calculation is falling under 1 or not, which is not acceptable\n",
    "#             print(query)\n",
    "#             print(records[0][0])\n",
    "#             print(df_cochange[\"change_id\"][i])\n",
    "#             print(df_cochange[\"num_change\"][i]) \n",
    "#             print()\n",
    "            \n",
    "            result_set.append([df_cochange[\"change_id\"][i], records[0][0], df_cochange[\"num_change\"][i]])\n",
    "        \n",
    "        pd.DataFrame(result_set).to_csv(data_loc+\"num_cloned_cochnage/\"+ss+\"_cloned_cochnage.csv\", header=False, index=False)\n",
    "\n",
    "\n",
    "    except Error as e:\n",
    "        print(\"Error reading data from MySQL table\", e, ss)\n",
    "    finally:\n",
    "        if (mySQLconnection.is_connected()):\n",
    "            mySQLconnection.close()\n",
    "            cursor1.close()\n",
    "            #print(\"MySQL connection is closed\")"
   ]
  },
  {
   "cell_type": "code",
   "execution_count": 18,
   "metadata": {},
   "outputs": [
    {
     "name": "stdout",
     "output_type": "stream",
     "text": [
      "(2103, 7)\n",
      "42252\n",
      "2103\n"
     ]
    }
   ],
   "source": [
    "#This if for test!!!\n",
    "print(df_cochange.shape)\n",
    "print(df_cochange[\"conqat\"][0])\n",
    "print(len(df_cochange))"
   ]
  }
 ],
 "metadata": {
  "kernelspec": {
   "display_name": "Python 3",
   "language": "python",
   "name": "python3"
  },
  "language_info": {
   "codemirror_mode": {
    "name": "ipython",
    "version": 3
   },
   "file_extension": ".py",
   "mimetype": "text/x-python",
   "name": "python",
   "nbconvert_exporter": "python",
   "pygments_lexer": "ipython3",
   "version": "3.7.1"
  }
 },
 "nbformat": 4,
 "nbformat_minor": 2
}
