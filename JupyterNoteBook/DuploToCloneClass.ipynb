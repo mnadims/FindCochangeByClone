{
 "cells": [
  {
   "cell_type": "code",
   "execution_count": 2,
   "metadata": {},
   "outputs": [],
   "source": [
    "import pandas as pd\n",
    "from IPython.display import clear_output\n",
    "def get_clone_classes(clones):\n",
    "    classes=[]\n",
    "    for c in range(len(clones)):\n",
    "        if(clones[c].strip()==\"pair start\"):\n",
    "            pair1=clones[c+1].strip()\n",
    "            pair2=clones[c+2].strip()\n",
    "\n",
    "            found=0\n",
    "            for i in range(len(classes)):\n",
    "                if(pair1 in classes[i] and pair2 in classes[i]):\n",
    "                    found=1\n",
    "                    break\n",
    "                elif(pair1 in classes[i]):\n",
    "                    classes[i].append(pair2)\n",
    "                    found=1\n",
    "                    break\n",
    "                elif(pair2 in classes[i]):\n",
    "                    classes[i].append(pair1)\n",
    "                    found=1\n",
    "                    break\n",
    "\n",
    "            if(found==0):\n",
    "                classes.append([pair1, pair2])    \n",
    "\n",
    "    return classes\n",
    "    "
   ]
  },
  {
   "cell_type": "code",
   "execution_count": 8,
   "metadata": {},
   "outputs": [],
   "source": [
    "data_loc=\"H:/detected_clone_results/\"\n",
    "df_duplo = pd.read_csv(data_loc+\"duplo_jedit_pair.csv\", sep=',', header=0, encoding='utf-8')"
   ]
  },
  {
   "cell_type": "code",
   "execution_count": 27,
   "metadata": {},
   "outputs": [
    {
     "name": "stdout",
     "output_type": "stream",
     "text": [
      "Working for : 3991\n"
     ]
    }
   ],
   "source": [
    "data_loc=\"H:/detected_clone_results/\"\n",
    "df_duplo = pd.read_csv(data_loc+\"duplo_jedit_pair.csv\", sep=',', header=0, encoding='utf-8')\n",
    "working_revision=3791 #starting version\n",
    "classes=[]\n",
    "query=\"\"\n",
    "for i in range(0, len(df_duplo), 2):\n",
    "    if(working_revision!=df_duplo[\"version\"][i]):\n",
    "        clear_output(wait=True)\n",
    "        print(\"Working for :\", working_revision)    \n",
    "        #print(\"*****Start Here****\")      \n",
    "        \n",
    "        class_id=0\n",
    "        for cls in classes:\n",
    "            class_to_take=[]    \n",
    "            for c in cls:\n",
    "                #print(working_revision, class_id, c)\n",
    "                if(c[0:5]==\"trunk\"):\n",
    "                    class_to_take.append(c.split())\n",
    "            \n",
    "            if(len(class_to_take)>1):\n",
    "                query=\"INSERT INTO `clones_duplo` (`version`, `CloneClass`, `file_name`, `startline`, `endline`) VALUES \\n\"\n",
    "                for ct in class_to_take:\n",
    "                    #print(class_id, ct)\n",
    "                    query+=\"('\"+str(working_revision)+\"', '\"+str(class_id)+\"', '\"+ct[0]+\"', '\"+ct[1]+\"', '\"+ct[2]+\"'),\\n\"\n",
    "                class_id+=1\n",
    "        \n",
    "        #print(query)           \n",
    "        #print(\"######\")    \n",
    "        if(len(query)>1):\n",
    "            with open(data_loc+\"duplo_db_query/revision-\"+str(working_revision)+\".sql\", \"w\") as text_file:\n",
    "                text_file.write(query[0:-2]+\";\")\n",
    "        query=\"\"\n",
    "        \n",
    "        classes=[]#Re-initialize the class for next revision\n",
    "        working_revision=df_duplo[\"version\"][i]\n",
    "        \n",
    "        \n",
    "        \n",
    "    #print(df_duplo[\"version\"][i], df_duplo[\"ClonePair\"][i], df_duplo[\"file_name\"][i], df_duplo[\"startline\"][i], df_duplo[\"endline\"][i])\n",
    "    #cur_version=df_duplo[\"version\"][i]\n",
    "    pair1=df_duplo[\"file_name\"][i]+\", \"+str(df_duplo[\"startline\"][i])+\", \"+str(df_duplo[\"endline\"][i])\n",
    "    pair2=df_duplo[\"file_name\"][i+1]+\", \"+str(df_duplo[\"startline\"][i+1])+\", \"+str(df_duplo[\"endline\"][i+1])\n",
    "    \n",
    "    #print(df_duplo[\"version\"][i], pair1, pair2)\n",
    "    \n",
    "    found=0\n",
    "    for i in range(len(classes)):\n",
    "        if(pair1 in classes[i] and pair2 in classes[i]):\n",
    "            found=1\n",
    "            break\n",
    "        elif(pair1 in classes[i]):\n",
    "            classes[i].append(pair2)\n",
    "            found=1\n",
    "            break\n",
    "        elif(pair2 in classes[i]):\n",
    "            classes[i].append(pair1)\n",
    "            found=1\n",
    "            break\n",
    "\n",
    "    if(found==0):\n",
    "        classes.append([pair1, pair2])    \n",
    "    \n",
    "    \n",
    "    \n",
    "    \n",
    "#     if(df_duplo[\"version\"][i]>3793):\n",
    "#         break\n",
    "        \n",
    "        "
   ]
  },
  {
   "cell_type": "code",
   "execution_count": null,
   "metadata": {},
   "outputs": [
    {
     "name": "stdout",
     "output_type": "stream",
     "text": [
      "Working for : 3905\n"
     ]
    }
   ],
   "source": [
    "for rev in range(3791, 4002):\n",
    "    clear_output(wait=True)\n",
    "    print(\"Working for :\", rev)    \n",
    "    clones=open(data_loc+\"version-\"+str(rev)+\".txt\",\"r\").read().strip().split('\\n') \n",
    "    clone_classes=get_clone_classes(clones)\n",
    "    \n",
    "    #rev=3900\n",
    "    query=\"INSERT INTO `clones_ccfinder` (`version`, `CloneClass`, `file_name`, `startline`, `endline`) VALUES \\n\"\n",
    "    class_id=0\n",
    "    for cls in clone_classes:\n",
    "        class_to_take=[]    \n",
    "        for c in cls:\n",
    "            c=c.replace(\"\\\\\", \"/\").replace(\"H:/jedit/repository/version-\"+str(rev)+\"/\", \"\")\n",
    "            if(c[0:5]==\"trunk\"):\n",
    "                class_to_take.append(c.split())\n",
    "\n",
    "        if(len(class_to_take)>1):\n",
    "            for ct in class_to_take:\n",
    "                #print(class_id, ct)\n",
    "                query+=\"('\"+str(rev)+\"', '\"+str(class_id)+\"', '\"+ct[0]+\"', '\"+ct[1]+\"', '\"+ct[2]+\"'),\\n\"\n",
    "            class_id+=1\n",
    "\n",
    "    #print(query[0:-2])\n",
    "    #Now write the generated query to a SQL file.......\n",
    "    with open(data_loc+\"../final_db_query/revision-\"+str(rev)+\".sql\", \"w\") as text_file:\n",
    "            text_file.write(query[0:-2])"
   ]
  },
  {
   "cell_type": "code",
   "execution_count": 34,
   "metadata": {},
   "outputs": [],
   "source": []
  }
 ],
 "metadata": {
  "kernelspec": {
   "display_name": "Python 3",
   "language": "python",
   "name": "python3"
  },
  "language_info": {
   "codemirror_mode": {
    "name": "ipython",
    "version": 3
   },
   "file_extension": ".py",
   "mimetype": "text/x-python",
   "name": "python",
   "nbconvert_exporter": "python",
   "pygments_lexer": "ipython3",
   "version": "3.7.6"
  }
 },
 "nbformat": 4,
 "nbformat_minor": 4
}
