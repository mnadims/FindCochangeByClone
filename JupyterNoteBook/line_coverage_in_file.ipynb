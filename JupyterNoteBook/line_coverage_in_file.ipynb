{
 "cells": [
  {
   "cell_type": "code",
   "execution_count": 1,
   "metadata": {},
   "outputs": [],
   "source": [
    "# This file calculates Line coverage by clones in each of the files detected by Detectors"
   ]
  },
  {
   "cell_type": "code",
   "execution_count": 2,
   "metadata": {},
   "outputs": [],
   "source": [
    "import pandas as pd\n",
    "import mysql.connector\n",
    "from mysql.connector import Error"
   ]
  },
  {
   "cell_type": "code",
   "execution_count": 3,
   "metadata": {},
   "outputs": [],
   "source": [
    "data_loc =\"C:/Users/MD NADIM/Documents/NetBeansProjects/FindCochangeByClone/data_files/final_dataset/\""
   ]
  },
  {
   "cell_type": "code",
   "execution_count": 45,
   "metadata": {},
   "outputs": [],
   "source": [
    "# List of Subject Systems and Clone Detectors!!!\n",
    "subject_systems=[\"brlcad\", \"carol\", \"ctags\", \"freecol\", \"jabref\", \"jedit\"]\n",
    "clone_detectors=[\"conqat\", \"deckard_2_0\", \"iclones\", \"nicad5\", \"simcad\", \"simian\"]\n",
    "\n",
    "# This is the declaration if you want to check the functinality for one subject sytems and clone detector. \n",
    "# subject_systems=[\"brlcad\"]\n",
    "# clone_detectors=[\"conqat\"]\n",
    "record=[['Subject System', 'Clone Detector', 'MaxV', 'MaxV-1', 'MaxV-2', 'MaxV-3', 'MaxV-4']]\n",
    "line=[]\n",
    "\n",
    "# Work for every subject systems. \n",
    "for ss in subject_systems: \n",
    "    try:\n",
    "        mySQLconnection = mysql.connector.connect(host='localhost',\n",
    "                                 database='cochange_'+ss,\n",
    "                                 #database='vua',                 \n",
    "                                 user='root',\n",
    "                                 password='')        \n",
    "\n",
    "        for cd in clone_detectors:\n",
    "            line.append(ss)\n",
    "            line.append(cd)\n",
    "            for i in range(5):\n",
    "                cursor1 = mySQLconnection.cursor()\n",
    "                query=\"SELECT * FROM `clones_\"+cd+\"` WHERE `version`= (SELECT DISTINCT `version` FROM `clones_\"+cd+\"` ORDER BY `version`  DESC LIMIT \"+str(i)+\", 1) ORDER BY `version`, `file_name`, `startline`, `endline`\"\n",
    "                #print(query)\n",
    "                cursor1.execute(query)\n",
    "                records = cursor1.fetchall()\n",
    "                line.append(calculate_lines(records))\n",
    "                #print(len(records))\n",
    "            #print(line)\n",
    "            record.append(line)\n",
    "            line=[]\n",
    "\n",
    "\n",
    "    except Error as e:\n",
    "        print(\"Error reading data from MySQL table\", e, ss)\n",
    "    finally:\n",
    "        if (mySQLconnection.is_connected()):\n",
    "            mySQLconnection.close()\n",
    "            cursor1.close()\n",
    "            #print(\"MySQL connection is closed\")\n",
    "pd.DataFrame(record).to_csv(\"generated_csv/line_coverage.csv\", header=False, index=False)"
   ]
  },
  {
   "cell_type": "code",
   "execution_count": 8,
   "metadata": {},
   "outputs": [
    {
     "name": "stdout",
     "output_type": "stream",
     "text": [
      "Working: jedit simian 4001\n"
     ]
    }
   ],
   "source": [
    "from IPython.display import clear_output\n",
    "# This will find the number of line coverage in all revisions. \n",
    "# List of Subject Systems and Clone Detectors!!!\n",
    "subject_systems=[\"brlcad\", \"carol\", \"ctags\", \"freecol\", \"jabref\", \"jedit\"]\n",
    "clone_detectors=[\"conqat\", \"deckard_2_0\", \"iclones\", \"nicad5\", \"simcad\", \"simian\"]\n",
    "\n",
    "# This is the declaration if you want to check the functinality for one subject sytems and clone detector. \n",
    "# subject_systems=[\"brlcad\"]\n",
    "# clone_detectors=[\"conqat\"]\n",
    "record=[]\n",
    "line=[]\n",
    "\n",
    "# Work for every subject systems. \n",
    "for ss in subject_systems: \n",
    "    try:\n",
    "        mySQLconnection = mysql.connector.connect(host='localhost',\n",
    "                                 database='cochange_'+ss,\n",
    "                                 #database='vua',                 \n",
    "                                 user='root',\n",
    "                                 password='')        \n",
    "\n",
    "        for cd in clone_detectors:\n",
    "            line.append(ss)\n",
    "            line.append(cd)\n",
    "            cursor_num = mySQLconnection.cursor()\n",
    "            cursor_num.execute(\"SELECT DISTINCT `version` FROM `clones_\"+cd+\"`\")\n",
    "            versions = cursor_num.fetchall()\n",
    "            for v in versions:\n",
    "#                 if(v[0]==20):\n",
    "#                     break\n",
    "                clear_output(wait=True)\n",
    "                print(\"Working:\",ss,cd, v[0])\n",
    "                cursor1 = mySQLconnection.cursor()\n",
    "                query=\"SELECT * FROM `clones_\"+cd+\"` WHERE `version`='\"+str(v[0])+\"'  ORDER BY `version`, `file_name`, `startline`, `endline`\"\n",
    "#                 print(query)\n",
    "#                 break\n",
    "                cursor1.execute(query)\n",
    "                records = cursor1.fetchall()\n",
    "                line.append(calculate_lines(records))\n",
    "                #print(len(records))\n",
    "            #print(line)\n",
    "            record.append(line)\n",
    "            line=[]\n",
    "#             break\n",
    "\n",
    "\n",
    "    except Error as e:\n",
    "        print(\"Error reading data from MySQL table\", e, ss)\n",
    "    finally:\n",
    "        if (mySQLconnection.is_connected()):\n",
    "            mySQLconnection.close()\n",
    "            cursor1.close()\n",
    "            #print(\"MySQL connection is closed\")\n",
    "pd.DataFrame(record).to_csv(\"generated_csv/line_coverage_all.csv\", header=False, index=False)"
   ]
  },
  {
   "cell_type": "code",
   "execution_count": 3,
   "metadata": {},
   "outputs": [],
   "source": [
    "def calculate_lines(records):\n",
    "    num_lines=0\n",
    "    total=0\n",
    "    store_lines=[]\n",
    "\n",
    "    for i in range(len(records)-1):\n",
    "    #     cur_rev=records[i][1]     #Revision\n",
    "    #     cur_filename=records[i][3]     #Filename\n",
    "    #     cur_sline=records[i][4]     #Startline\n",
    "    #     cur_eline=records[i][5]     #Endline\n",
    "        for ln in range(records[i][4], records[i][5]+1):\n",
    "            if(ln not in store_lines):\n",
    "                store_lines.append(ln)\n",
    "\n",
    "        if(records[i][3] !=records[i+1][3]):\n",
    "            #print(records[i][3], len(store_lines))\n",
    "            total+=len(store_lines)\n",
    "            store_lines=[]\n",
    "\n",
    "    #Here is the last file :) \n",
    "    #print(records[i-1][3], len(store_lines)) #To show the lines in a file\n",
    "    total+=len(store_lines)      \n",
    "\n",
    "    return total"
   ]
  },
  {
   "cell_type": "code",
   "execution_count": 16,
   "metadata": {},
   "outputs": [
    {
     "name": "stdout",
     "output_type": "stream",
     "text": [
      "brlcad\n",
      "carol\n",
      "ctags\n",
      "freecol\n",
      "jabref\n",
      "jedit\n"
     ]
    }
   ],
   "source": [
    "# List of Subject Systems and Clone Detectors!!!\n",
    "subject_systems=[\"brlcad\", \"carol\", \"ctags\", \"freecol\", \"jabref\", \"jedit\"]\n",
    "clone_detectors=[\"conqat\", \"deckard\", \"iclones\", \"nicad5\", \"simcad\", \"simian\"]\n",
    "\n",
    "# This is the declaration if you want to check the functinality for one subject sytems and clone detector. \n",
    "# subject_systems=[\"brlcad\"]\n",
    "# clone_detectors=[\"conqat\"]\n",
    "\n",
    "\n",
    "# Work for every subject systems. \n",
    "for ss in subject_systems: \n",
    "    try:\n",
    "        mySQLconnection = mysql.connector.connect(host='localhost',\n",
    "                                 database='cochange_'+ss,\n",
    "                                 #database='vua',                 \n",
    "                                 user='root',\n",
    "                                 password='')        \n",
    "\n",
    "        cursor1 = mySQLconnection.cursor()\n",
    "\n",
    "        # Read the cochange file stored in CSV. \n",
    "        df_cochange = pd.read_csv(data_loc+\"all_performance_files/\"+ss+\"_performance.csv\", sep=',', header=0, encoding='utf-8')\n",
    "        result_set = [[\"change_id\", \"num_all_cochange\", \"num_cloned_cochange\"]]\n",
    "\n",
    "        print(ss)\n",
    "        for i in range(len(df_cochange)):\n",
    "            query=\"SELECT COUNT(`id`)-1 total_cc FROM `change_info`WHERE `version`=(SELECT `version` FROM `change_info` WHERE `id`='\"+str(df_cochange[\"change_id\"][i])+\"')\"\n",
    "            cursor1.execute(query)\n",
    "            records = cursor1.fetchall()\n",
    "            #if(records[0][0]<1):   #For debugging, if any calculation is falling under 1 or not, which is not acceptable\n",
    "#             print(query)\n",
    "#             print(records[0][0])\n",
    "#             print(df_cochange[\"change_id\"][i])\n",
    "#             print(df_cochange[\"num_change\"][i]) \n",
    "#             print()\n",
    "            \n",
    "            result_set.append([df_cochange[\"change_id\"][i], records[0][0], df_cochange[\"num_change\"][i]])\n",
    "        \n",
    "        pd.DataFrame(result_set).to_csv(data_loc+\"num_cloned_cochnage/\"+ss+\"_cloned_cochnage.csv\", header=False, index=False)\n",
    "\n",
    "\n",
    "    except Error as e:\n",
    "        print(\"Error reading data from MySQL table\", e, ss)\n",
    "    finally:\n",
    "        if (mySQLconnection.is_connected()):\n",
    "            mySQLconnection.close()\n",
    "            cursor1.close()\n",
    "            #print(\"MySQL connection is closed\")"
   ]
  },
  {
   "cell_type": "code",
   "execution_count": 18,
   "metadata": {},
   "outputs": [
    {
     "name": "stdout",
     "output_type": "stream",
     "text": [
      "(2103, 7)\n",
      "42252\n",
      "2103\n"
     ]
    }
   ],
   "source": [
    "#This if for test!!!\n",
    "print(df_cochange.shape)\n",
    "print(df_cochange[\"conqat\"][0])\n",
    "print(len(df_cochange))"
   ]
  }
 ],
 "metadata": {
  "kernelspec": {
   "display_name": "Python 3",
   "language": "python",
   "name": "python3"
  },
  "language_info": {
   "codemirror_mode": {
    "name": "ipython",
    "version": 3
   },
   "file_extension": ".py",
   "mimetype": "text/x-python",
   "name": "python",
   "nbconvert_exporter": "python",
   "pygments_lexer": "ipython3",
   "version": "3.7.1"
  }
 },
 "nbformat": 4,
 "nbformat_minor": 2
}
