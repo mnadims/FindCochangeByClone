{
 "cells": [
  {
   "cell_type": "code",
   "execution_count": 1,
   "metadata": {},
   "outputs": [],
   "source": [
    "data_loc=\"H:/detected_clone_results/cloneworks_brlcad/\"\n",
    "clones=open(data_loc+\"revision-2.clones\",\"r\").read().strip().split('\\n') \n",
    "files=open(data_loc+\"revision-2.files\",\"r\").read().strip().split('\\n') "
   ]
  },
  {
   "cell_type": "code",
   "execution_count": 48,
   "metadata": {},
   "outputs": [
    {
     "name": "stdout",
     "output_type": "stream",
     "text": [
      "INSERT INTO `clones_cloneworks` (`version`, `ClonePair`, `clone_type`, `file_name`, `startline`, `endline`) VALUES \n",
      "('2', '0', 'type1', 'jove/jove_main.c', '517', '520'),\n",
      "('2', '0', 'type1', 'jove/jove_main.c', '530', '533'),\n",
      "('2', '1', 'type1', 'jove/jove_screen.c', '127', '134'),\n",
      "('2', '1', 'type1', 'jove/jove_screen.c', '187', '194'),\n",
      "('2', '2', 'type1', 'jove/jove_screen.c', '130', '133'),\n",
      "('2', '2', 'type1', 'jove/jove_screen.c', '190', '193'),\n",
      "('2', '3', 'type1', 'jove/jove_io.c', '469', '474'),\n",
      "('2', '3', 'type1', 'jove/jove_screen.c', '209', '212'),\n",
      "('2', '4', 'type1', 'jove/jove_buf.c', '434', '437'),\n",
      "('2', '4', 'type1', 'jove/jove_extend.c', '157', '160');\n",
      "\n",
      "INSERT INTO `clones_cloneworks` (`version`, `ClonePair`, `clone_type`, `file_name`, `startline`, `endline`) VALUES \n",
      "('2', '5', 'type1', 'jove/jove_re.c', '537', '540'),\n",
      "('2', '5', 'type1', 'jove/jove_re.c', '549', '552'),\n",
      "('2', '6', 'type1', 'jove/jove_re.c', '600', '603'),\n",
      "('2', '6', 'type1', 'jove/jove_re.c', '607', '610'),\n",
      "('2', '7', 'type1', 'jove/jove_re.c', '630', '633'),\n",
      "('2', '7', 'type1', 'jove/jove_re.c', '637', '640');\n"
     ]
    },
    {
     "ename": "NameError",
     "evalue": "name 'best_feature_name' is not defined",
     "output_type": "error",
     "traceback": [
      "\u001b[1;31m---------------------------------------------------------------------------\u001b[0m",
      "\u001b[1;31mNameError\u001b[0m                                 Traceback (most recent call last)",
      "\u001b[1;32m<ipython-input-48-2156509c1d0d>\u001b[0m in \u001b[0;36m<module>\u001b[1;34m\u001b[0m\n\u001b[0;32m     30\u001b[0m \u001b[1;33m\u001b[0m\u001b[0m\n\u001b[0;32m     31\u001b[0m \u001b[1;32mwith\u001b[0m \u001b[0mopen\u001b[0m\u001b[1;33m(\u001b[0m\u001b[0mdata_loc\u001b[0m\u001b[1;33m+\u001b[0m\u001b[0mss\u001b[0m\u001b[1;33m+\u001b[0m\u001b[1;34m\"_cloneworks.sql\"\u001b[0m\u001b[1;33m,\u001b[0m \u001b[1;34m\"w\"\u001b[0m\u001b[1;33m)\u001b[0m \u001b[1;32mas\u001b[0m \u001b[0mtext_file\u001b[0m\u001b[1;33m:\u001b[0m\u001b[1;33m\u001b[0m\u001b[1;33m\u001b[0m\u001b[0m\n\u001b[1;32m---> 32\u001b[1;33m             \u001b[0mtext_file\u001b[0m\u001b[1;33m.\u001b[0m\u001b[0mwrite\u001b[0m\u001b[1;33m(\u001b[0m\u001b[0mbest_feature_name\u001b[0m\u001b[1;33m)\u001b[0m\u001b[1;33m\u001b[0m\u001b[1;33m\u001b[0m\u001b[0m\n\u001b[0m",
      "\u001b[1;31mNameError\u001b[0m: name 'best_feature_name' is not defined"
     ]
    }
   ],
   "source": [
    "ctype=\"type1\"\n",
    "ss=\"brlcad\"\n",
    "list_files=[]\n",
    "for f in files:\n",
    "    if(f[0]!='#'):\n",
    "        list_files.append(f.split()[1].replace(\"../subject_systems/brlcad/revision-2/\", \"\"))\n",
    "        #print(f)\n",
    "    \n",
    "#list_clones=[]\n",
    "query_str=\"\"\n",
    "num_pairs=0\n",
    "query_split=5\n",
    "for c in clones:\n",
    "    if(c[0]!='#'):\n",
    "        if(num_pairs%query_split==0):\n",
    "            if(num_pairs>0):\n",
    "                query_str+=\";\\n\\n\"\n",
    "            query_str+=\"INSERT INTO `clones_cloneworks` (`version`, `ClonePair`, `clone_type`, `file_name`, `startline`, `endline`) VALUES \\n\"\n",
    "        elif(num_pairs>0):\n",
    "            query_str+=\",\\n\"\n",
    "#         if(num_pairs>0):\n",
    "#             query_str+=\",\\n\"\n",
    "        cpair=c.split(',')\n",
    "        query_str+=\"('2', '\"+str(num_pairs)+\"', '\"+ctype+\"', '\"+list_files[int(cpair[0])]+\"', '\"+cpair[1]+\"', '\"+cpair[2]+\"'),\\n\"\n",
    "        query_str+=\"('2', '\"+str(num_pairs)+\"', '\"+ctype+\"', '\"+list_files[int(cpair[3])]+\"', '\"+cpair[4]+\"', '\"+cpair[5]+\"')\"\n",
    "        num_pairs+=1\n",
    "query_str+=\";\"\n",
    "\n",
    "print(query_str)\n",
    "\n",
    "with open(data_loc+ss+\"_cloneworks.sql\", \"w\") as text_file:\n",
    "            text_file.write(query_str)"
   ]
  }
 ],
 "metadata": {
  "kernelspec": {
   "display_name": "Python 3",
   "language": "python",
   "name": "python3"
  },
  "language_info": {
   "codemirror_mode": {
    "name": "ipython",
    "version": 3
   },
   "file_extension": ".py",
   "mimetype": "text/x-python",
   "name": "python",
   "nbconvert_exporter": "python",
   "pygments_lexer": "ipython3",
   "version": "3.7.3"
  }
 },
 "nbformat": 4,
 "nbformat_minor": 2
}
