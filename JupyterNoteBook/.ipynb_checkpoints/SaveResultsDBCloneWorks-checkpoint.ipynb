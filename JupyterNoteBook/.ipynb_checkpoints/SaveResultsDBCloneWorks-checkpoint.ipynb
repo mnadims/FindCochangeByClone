{
 "cells": [
  {
   "cell_type": "code",
   "execution_count": 35,
   "metadata": {},
   "outputs": [],
   "source": [
    "from IPython.display import clear_output\n",
    "import os.path\n",
    "from os import path\n",
    "\n",
    "data_loc =\"H:/detected_clone_results/\"\n",
    "#subject_systems=[\"brlcad\", \"camellia\", \"carol\", \"ctags\", \"freecol\", \"jabref\", \"jedit\", \"qmailadmin\"]\n",
    "subject_systems=[\"jedit\"]\n",
    "#revisions=[\"2-2115\", \"1-273\", \"1-1700\", \"1-774\", \"1000-2000\", \"1-1545\", \"3787-4001\", \"1-317\"]\n",
    "revisions=[\"3791-4001\"]\n",
    "#clone_types=[\"type1\", \"type2blind\", \"type3pattern\", \"type3token\"]\n",
    "clone_types=[\"type3token\"]\n",
    "query_split=2500"
   ]
  },
  {
   "cell_type": "code",
   "execution_count": 36,
   "metadata": {},
   "outputs": [],
   "source": [
    "def find_clone_classes(clones):\n",
    "#     data_loc=\"H:/detected_clone_results/cloneworks_\"+ss+\"/type3token/\"\n",
    "#     clones=open(data_loc+\"revision-\"+str(v)+\".clones\",\"r\").read().strip().split('\\n') \n",
    "\n",
    "    classes=[]\n",
    "    for c in clones:\n",
    "        if(c[0]!='#'):\n",
    "            pair_arr=c.split(',')\n",
    "            pair1=pair_arr[0]+\",\"+pair_arr[1]+\",\"+pair_arr[2]\n",
    "            pair2=pair_arr[3]+\",\"+pair_arr[4]+\",\"+pair_arr[5]\n",
    "#             print(pair1)\n",
    "#             print(pair2)\n",
    "\n",
    "            found=0\n",
    "            for i in range(len(classes)):\n",
    "                if(pair1 in classes[i] and pair2 in classes[i]):\n",
    "                    found=1\n",
    "                    break\n",
    "                elif(pair1 in classes[i]):\n",
    "                    classes[i].append(pair2)\n",
    "                    found=1\n",
    "                    break\n",
    "                elif(pair2 in classes[i]):\n",
    "                    classes[i].append(pair1)\n",
    "                    found=1\n",
    "                    break\n",
    "\n",
    "            if(found==0):\n",
    "                classes.append([pair1, pair2])\n",
    "                \n",
    "    return classes   "
   ]
  },
  {
   "cell_type": "code",
   "execution_count": 37,
   "metadata": {},
   "outputs": [
    {
     "name": "stdout",
     "output_type": "stream",
     "text": [
      "Working for : jedit type3token 3799 / 4001\n",
      "H:/detected_clone_results/cloneworks_jedit/type3token/revision-3799\n"
     ]
    },
    {
     "ename": "KeyboardInterrupt",
     "evalue": "",
     "output_type": "error",
     "traceback": [
      "\u001b[1;31m---------------------------------------------------------------------------\u001b[0m",
      "\u001b[1;31mKeyboardInterrupt\u001b[0m                         Traceback (most recent call last)",
      "\u001b[1;32m<ipython-input-37-77fcb079ad90>\u001b[0m in \u001b[0;36m<module>\u001b[1;34m\u001b[0m\n\u001b[0;32m     21\u001b[0m \u001b[1;33m\u001b[0m\u001b[0m\n\u001b[0;32m     22\u001b[0m             \u001b[0mclones\u001b[0m\u001b[1;33m=\u001b[0m\u001b[0mopen\u001b[0m\u001b[1;33m(\u001b[0m\u001b[0mclone_path\u001b[0m\u001b[1;33m+\u001b[0m\u001b[1;34m\".clones\"\u001b[0m\u001b[1;33m,\u001b[0m\u001b[1;34m\"r\"\u001b[0m\u001b[1;33m)\u001b[0m\u001b[1;33m.\u001b[0m\u001b[0mread\u001b[0m\u001b[1;33m(\u001b[0m\u001b[1;33m)\u001b[0m\u001b[1;33m.\u001b[0m\u001b[0mstrip\u001b[0m\u001b[1;33m(\u001b[0m\u001b[1;33m)\u001b[0m\u001b[1;33m.\u001b[0m\u001b[0msplit\u001b[0m\u001b[1;33m(\u001b[0m\u001b[1;34m'\\n'\u001b[0m\u001b[1;33m)\u001b[0m\u001b[1;33m\u001b[0m\u001b[1;33m\u001b[0m\u001b[0m\n\u001b[1;32m---> 23\u001b[1;33m             \u001b[0mclone_classes\u001b[0m\u001b[1;33m=\u001b[0m\u001b[0mfind_clone_classes\u001b[0m\u001b[1;33m(\u001b[0m\u001b[0mclones\u001b[0m\u001b[1;33m)\u001b[0m\u001b[1;33m\u001b[0m\u001b[1;33m\u001b[0m\u001b[0m\n\u001b[0m\u001b[0;32m     24\u001b[0m             \u001b[1;31m#print(clone_classes)\u001b[0m\u001b[1;33m\u001b[0m\u001b[1;33m\u001b[0m\u001b[1;33m\u001b[0m\u001b[0m\n\u001b[0;32m     25\u001b[0m             \u001b[0mfiles\u001b[0m\u001b[1;33m=\u001b[0m\u001b[0mopen\u001b[0m\u001b[1;33m(\u001b[0m\u001b[0mclone_path\u001b[0m\u001b[1;33m+\u001b[0m\u001b[1;34m\".files\"\u001b[0m\u001b[1;33m,\u001b[0m\u001b[1;34m\"r\"\u001b[0m\u001b[1;33m)\u001b[0m\u001b[1;33m.\u001b[0m\u001b[0mread\u001b[0m\u001b[1;33m(\u001b[0m\u001b[1;33m)\u001b[0m\u001b[1;33m.\u001b[0m\u001b[0mstrip\u001b[0m\u001b[1;33m(\u001b[0m\u001b[1;33m)\u001b[0m\u001b[1;33m.\u001b[0m\u001b[0msplit\u001b[0m\u001b[1;33m(\u001b[0m\u001b[1;34m'\\n'\u001b[0m\u001b[1;33m)\u001b[0m\u001b[1;33m\u001b[0m\u001b[1;33m\u001b[0m\u001b[0m\n",
      "\u001b[1;32m<ipython-input-36-834d05e25ab3>\u001b[0m in \u001b[0;36mfind_clone_classes\u001b[1;34m(clones)\u001b[0m\n\u001b[0;32m     14\u001b[0m             \u001b[0mfound\u001b[0m\u001b[1;33m=\u001b[0m\u001b[1;36m0\u001b[0m\u001b[1;33m\u001b[0m\u001b[1;33m\u001b[0m\u001b[0m\n\u001b[0;32m     15\u001b[0m             \u001b[1;32mfor\u001b[0m \u001b[0mi\u001b[0m \u001b[1;32min\u001b[0m \u001b[0mrange\u001b[0m\u001b[1;33m(\u001b[0m\u001b[0mlen\u001b[0m\u001b[1;33m(\u001b[0m\u001b[0mclasses\u001b[0m\u001b[1;33m)\u001b[0m\u001b[1;33m)\u001b[0m\u001b[1;33m:\u001b[0m\u001b[1;33m\u001b[0m\u001b[1;33m\u001b[0m\u001b[0m\n\u001b[1;32m---> 16\u001b[1;33m                 \u001b[1;32mif\u001b[0m\u001b[1;33m(\u001b[0m\u001b[0mpair1\u001b[0m \u001b[1;32min\u001b[0m \u001b[0mclasses\u001b[0m\u001b[1;33m[\u001b[0m\u001b[0mi\u001b[0m\u001b[1;33m]\u001b[0m \u001b[1;32mand\u001b[0m \u001b[0mpair2\u001b[0m \u001b[1;32min\u001b[0m \u001b[0mclasses\u001b[0m\u001b[1;33m[\u001b[0m\u001b[0mi\u001b[0m\u001b[1;33m]\u001b[0m\u001b[1;33m)\u001b[0m\u001b[1;33m:\u001b[0m\u001b[1;33m\u001b[0m\u001b[1;33m\u001b[0m\u001b[0m\n\u001b[0m\u001b[0;32m     17\u001b[0m                     \u001b[0mfound\u001b[0m\u001b[1;33m=\u001b[0m\u001b[1;36m1\u001b[0m\u001b[1;33m\u001b[0m\u001b[1;33m\u001b[0m\u001b[0m\n\u001b[0;32m     18\u001b[0m                     \u001b[1;32mbreak\u001b[0m\u001b[1;33m\u001b[0m\u001b[1;33m\u001b[0m\u001b[0m\n",
      "\u001b[1;31mKeyboardInterrupt\u001b[0m: "
     ]
    }
   ],
   "source": [
    "sid=0\n",
    "for ss in subject_systems:\n",
    "    files_not_found=\"\"    \n",
    "    rev_range=revisions[sid].split('-')\n",
    "    #print(sid, ss, rev_range[0], rev_range[1])\n",
    "    for ctype in clone_types:        \n",
    "        for rev in range(int(rev_range[0]), int(rev_range[1])):            \n",
    "            clear_output(wait=True)\n",
    "            print(\"Working for :\", ss, ctype, rev, \"/\", rev_range[1])            \n",
    "            query_str=\"\"\n",
    "            clone_path=data_loc+\"cloneworks_\"+ss+\"/\"+ctype+\"/revision-\"+str(rev)\n",
    "            print(clone_path)\n",
    "            if(path.exists(clone_path+\".clones\")== False):\n",
    "                files_not_found+=clone_path+\".clones\\n\"\n",
    "                continue\n",
    "                \n",
    "            if(path.exists(clone_path+\".files\")==False):\n",
    "                files_not_found+=clone_path+\".files\\n\"\n",
    "                continue\n",
    "                \n",
    "            clones=open(clone_path+\".clones\",\"r\").read().strip().split('\\n') \n",
    "            clone_classes=find_clone_classes(clones)\n",
    "            #print(clone_classes)\n",
    "            files=open(clone_path+\".files\",\"r\").read().strip().split('\\n') \n",
    "            list_files=[]\n",
    "            for f in files:\n",
    "                if(f[0]!='#'):\n",
    "                    list_files.append(f.split()[1].replace(\"../subject_systems/\"+ss+\"/revision-\"+str(rev)+\"/\", \"\"))\n",
    "                    #print(f)\n",
    "                    \n",
    "            num_pairs=0        \n",
    "            class_id=0\n",
    "            for cls in clone_classes:                \n",
    "                for cl in cls:\n",
    "                    if(num_pairs%query_split==0):\n",
    "                        if(num_pairs>0):\n",
    "                            query_str+=\";\\n\\n\"\n",
    "                        query_str+=\"INSERT INTO `clones_cloneworks_\"+ctype+\"` (`version`, `CloneClass`, `file_name`, `startline`, `endline`) VALUES \\n\"\n",
    "                    elif(num_pairs>0):\n",
    "                        query_str+=\",\\n\"\n",
    "                    cpair=cl.split(',')\n",
    "                    query_str+=\"('\"+str(rev)+\"', '\"+str(class_id)+\"', '\"+list_files[int(cpair[0])]+\"', '\"+cpair[1]+\"', '\"+cpair[2]+\"')\"\n",
    "                    num_pairs+=1\n",
    "                class_id+=1\n",
    "            query_str+=\";\"\n",
    "            \n",
    "            #print(query_str)\n",
    "            with open(\"H:/generated_sql_query/cloneworks_jedit/\"+ctype+\"/revision_\"+str(rev)+\".sql\", \"w\") as text_file:\n",
    "                text_file.write(query_str)\n",
    "            #break\n",
    "    sid+=1"
   ]
  },
  {
   "cell_type": "code",
   "execution_count": null,
   "metadata": {},
   "outputs": [],
   "source": [
    "for i in range(3787, 4002):\n",
    "    print(\"source G:/jedit_cloneworks_type3pattern/revision\"+str(i)+\".sql\")\n",
    "print()"
   ]
  }
 ],
 "metadata": {
  "kernelspec": {
   "display_name": "Python 3",
   "language": "python",
   "name": "python3"
  },
  "language_info": {
   "codemirror_mode": {
    "name": "ipython",
    "version": 3
   },
   "file_extension": ".py",
   "mimetype": "text/x-python",
   "name": "python",
   "nbconvert_exporter": "python",
   "pygments_lexer": "ipython3",
   "version": "3.7.6"
  }
 },
 "nbformat": 4,
 "nbformat_minor": 2
}
