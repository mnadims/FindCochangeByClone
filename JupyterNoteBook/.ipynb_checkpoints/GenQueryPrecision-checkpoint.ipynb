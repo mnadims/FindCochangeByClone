{
 "cells": [
  {
   "cell_type": "code",
   "execution_count": null,
   "metadata": {},
   "outputs": [],
   "source": [
    "# # This file generates MYSQL Query to obtain the precision from the database. The main task of this code is to read\n",
    "# the change_id from recall file, those change_id belongs to the changes whose cochange is obtained by atleast one \n",
    "# clone detection tool. To calculate recall we did not considered the changes whose cochange is not detected by any \n",
    "# of the clone detection tools in our investigation. Therefore we also only considering those \"good_change_id\" for \n",
    "# calculating the precision. "
   ]
  },
  {
   "cell_type": "code",
   "execution_count": 3,
   "metadata": {},
   "outputs": [],
   "source": [
    "import pandas as pd\n",
    "from IPython.display import clear_output\n",
    "data_loc =\"C:/Users/mdn769/FindCochangeByClone/data_files/final_dataset_jss/\"\n",
    "\n",
    "# subject_systems=[\"brlcad\", \"camellia\", \"carol\", \"ctags\", \"freecol\", \"jabref\", \"jedit\", \"qmailadmin\"]\n",
    "# clone_detectors=[\"ccfinder\", \"cloneworks\" \"conqat\", \"deckard\", \"duplo\", \"iclones\", \"nicad5\", \"simcad\", \"simian\"]\n",
    "\n",
    "subject_systems=[\"freecol\"]\n",
    "precision_query=\"SELECT avg(IF(`clone_pr_total`>0, `clone_used` /`clone_pr_total`,0)) p_ccfinder FROM `cc_ccfinder` WHERE `change_id` IN (\""
   ]
  },
  {
   "cell_type": "code",
   "execution_count": 16,
   "metadata": {},
   "outputs": [
    {
     "name": "stdout",
     "output_type": "stream",
     "text": [
      "Working for : freecol\n",
      "Written: gen_calc_precision_freecol.sql \n",
      "@C:/Users/mdn769/FindCochangeByClone/data_files/final_dataset_jss/../sql_code_backup/\n"
     ]
    }
   ],
   "source": [
    "for ss in subject_systems: \n",
    "    clear_output(wait=True)\n",
    "    print(\"Working for :\", ss)\n",
    "    df_recall = pd.read_csv(data_loc+\"recalls_\"+ss+\".csv\", sep=',', header=0, encoding='utf-8')\n",
    "    good_change_id=\"\"\n",
    "    for i in range(len(df_recall['change_id'])-1): #last value is the count of change ids\n",
    "        good_change_id+=str(df_recall['change_id'][i])+\", \"\n",
    "    \n",
    "    \n",
    "    query_template=open(data_loc+\"../sql_code_backup/template_precision_query.sql\", \"r\").read()\n",
    "    #print(good_change_id[0:-2]) #Remove last comma and space\n",
    "    final_query=query_template.replace(\"GOOD_CHANGE_ID\", good_change_id[0:-2])\n",
    "    \n",
    "    #Now write the generated query to a SQL file.......\n",
    "    with open(data_loc+\"../sql_code_backup/gen_calc_precision_\"+ss+\".sql\", \"w\") as text_file:\n",
    "            text_file.write(final_query)\n",
    "    print(\"Written:\", \"gen_calc_precision_\"+ss+\".sql \\n@\"+data_loc+\"../sql_code_backup/\")"
   ]
  }
 ],
 "metadata": {
  "kernelspec": {
   "display_name": "Python 3",
   "language": "python",
   "name": "python3"
  },
  "language_info": {
   "codemirror_mode": {
    "name": "ipython",
    "version": 3
   },
   "file_extension": ".py",
   "mimetype": "text/x-python",
   "name": "python",
   "nbconvert_exporter": "python",
   "pygments_lexer": "ipython3",
   "version": "3.7.6"
  }
 },
 "nbformat": 4,
 "nbformat_minor": 4
}
