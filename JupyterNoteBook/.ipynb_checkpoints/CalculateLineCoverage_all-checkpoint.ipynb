{
 "cells": [
  {
   "cell_type": "code",
   "execution_count": 1,
   "metadata": {},
   "outputs": [],
   "source": [
    "# This file calculates Line coverage by clones in each of the files detected by Detectors"
   ]
  },
  {
   "cell_type": "code",
   "execution_count": 3,
   "metadata": {},
   "outputs": [],
   "source": [
    "import pandas as pd\n",
    "import mysql.connector\n",
    "from mysql.connector import Error"
   ]
  },
  {
   "cell_type": "code",
   "execution_count": 47,
   "metadata": {},
   "outputs": [],
   "source": [
    "def get_avg_ln_covered_per_file(records):\n",
    "    total=0\n",
    "    file_count=0\n",
    "    for r in records:\n",
    "        file_name=r[0]\n",
    "        list_start=r[1].split()\n",
    "        list_end=r[2].split()\n",
    "        line_list=[]\n",
    "        if(len(list_start)>0 and len(list_start)==len(list_end)):\n",
    "            for fragments in range(len(list_start)):\n",
    "                for r in range(int(list_start[fragments]), int(list_end[fragments])+1):\n",
    "                    if(r not in line_list):\n",
    "                        line_list.append(r)\n",
    "                    #print(r)\n",
    "                #print(\"***\")\n",
    "            #print(\"####\")\n",
    "\n",
    "        #print(file_name, len(line_list), line_list)\n",
    "        total+=len(line_list)\n",
    "        file_count+=1\n",
    "\n",
    "    #print(total/file_count)\n",
    "    print(\"File Count:\", file_count)\n",
    "    return total               "
   ]
  },
  {
   "cell_type": "code",
   "execution_count": 44,
   "metadata": {},
   "outputs": [
    {
     "name": "stdout",
     "output_type": "stream",
     "text": [
      "8 12\n"
     ]
    }
   ],
   "source": [
    "data_loc =\"C:/Users/mdn769/FindCochangeByClone/data_files/final_dataset_jss/\"\n",
    "subject_systems=[\"brlcad\", \"camellia\", \"carol\", \"ctags\", \"freecol\", \"jabref\", \"jedit\", \"qmailadmin\"]\n",
    "clone_detectors=[\"ccfinder\", \"cloneworks_type1\", \"cloneworks_type2blind\", \"cloneworks_type3pattern\",\n",
    "                 \"cloneworks_type3token\", \"conqat\", \"deckard_2_0\", \"duplo\", \"iclones\", \"nicad5\", \"simcad\", \"simian\"]\n",
    "\n",
    "print(len(subject_systems), len(clone_detectors))"
   ]
  },
  {
   "cell_type": "code",
   "execution_count": 45,
   "metadata": {},
   "outputs": [
    {
     "name": "stdout",
     "output_type": "stream",
     "text": [
      "Working for: brlcad ccfinder\n",
      "File Count: 88\n",
      "brlcad ccfinder 88 128.1\n",
      "File Count: 88\n",
      "Working for: brlcad cloneworks_type1\n",
      "File Count: 94\n",
      "brlcad cloneworks_type1 94 64.03\n",
      "File Count: 94\n",
      "Working for: brlcad cloneworks_type2blind\n",
      "File Count: 113\n",
      "brlcad cloneworks_type2blind 113 76.81\n",
      "File Count: 113\n",
      "Working for: brlcad cloneworks_type3pattern\n",
      "File Count: 124\n",
      "brlcad cloneworks_type3pattern 124 126.08\n",
      "File Count: 124\n",
      "Working for: brlcad cloneworks_type3token\n",
      "File Count: 115\n",
      "brlcad cloneworks_type3token 115 110.7\n",
      "File Count: 115\n",
      "Working for: brlcad conqat\n",
      "File Count: 98\n",
      "brlcad conqat 98 128.89\n",
      "File Count: 98\n",
      "Working for: brlcad deckard_2_0\n",
      "File Count: 96\n",
      "brlcad deckard_2_0 96 103.67\n",
      "File Count: 96\n",
      "Working for: brlcad duplo\n",
      "File Count: 57\n",
      "brlcad duplo 57 153.88\n",
      "File Count: 57\n",
      "Working for: brlcad iclones\n",
      "File Count: 77\n",
      "brlcad iclones 77 131.66\n",
      "File Count: 77\n",
      "Working for: brlcad nicad5\n",
      "File Count: 65\n",
      "brlcad nicad5 65 111.15\n",
      "File Count: 65\n",
      "Working for: brlcad simcad\n",
      "File Count: 94\n",
      "brlcad simcad 94 102.32\n",
      "File Count: 94\n",
      "Working for: brlcad simian\n",
      "File Count: 83\n",
      "brlcad simian 83 116.33\n",
      "File Count: 83\n",
      "Working for: camellia ccfinder\n",
      "File Count: 52\n",
      "camellia ccfinder 52 145.96\n",
      "File Count: 52\n",
      "Working for: camellia cloneworks_type1\n",
      "File Count: 24\n",
      "camellia cloneworks_type1 24 84.12\n",
      "File Count: 24\n",
      "Working for: camellia cloneworks_type2blind\n",
      "File Count: 26\n",
      "camellia cloneworks_type2blind 26 118.92\n",
      "File Count: 26\n",
      "Working for: camellia cloneworks_type3pattern\n",
      "File Count: 27\n",
      "camellia cloneworks_type3pattern 27 195.89\n",
      "File Count: 27\n",
      "Working for: camellia cloneworks_type3token\n",
      "File Count: 27\n",
      "camellia cloneworks_type3token 27 207.85\n",
      "File Count: 27\n",
      "Working for: camellia conqat\n",
      "File Count: 44\n",
      "camellia conqat 44 153.5\n",
      "File Count: 44\n",
      "Working for: camellia deckard_2_0\n",
      "File Count: 49\n",
      "camellia deckard_2_0 49 511.78\n",
      "File Count: 49\n",
      "Working for: camellia duplo\n",
      "File Count: 0\n"
     ]
    },
    {
     "ename": "ZeroDivisionError",
     "evalue": "division by zero",
     "output_type": "error",
     "traceback": [
      "\u001b[1;31m---------------------------------------------------------------------------\u001b[0m",
      "\u001b[1;31mZeroDivisionError\u001b[0m                         Traceback (most recent call last)",
      "\u001b[1;32m<ipython-input-45-d115b94edba1>\u001b[0m in \u001b[0;36m<module>\u001b[1;34m\u001b[0m\n\u001b[0;32m     16\u001b[0m             \u001b[0mcursor1\u001b[0m\u001b[1;33m.\u001b[0m\u001b[0mexecute\u001b[0m\u001b[1;33m(\u001b[0m\u001b[0mquery\u001b[0m\u001b[1;33m)\u001b[0m\u001b[1;33m\u001b[0m\u001b[1;33m\u001b[0m\u001b[0m\n\u001b[0;32m     17\u001b[0m             \u001b[0mrecords\u001b[0m \u001b[1;33m=\u001b[0m \u001b[0mcursor1\u001b[0m\u001b[1;33m.\u001b[0m\u001b[0mfetchall\u001b[0m\u001b[1;33m(\u001b[0m\u001b[1;33m)\u001b[0m\u001b[1;33m\u001b[0m\u001b[1;33m\u001b[0m\u001b[0m\n\u001b[1;32m---> 18\u001b[1;33m             \u001b[0mprint\u001b[0m\u001b[1;33m(\u001b[0m\u001b[0mss\u001b[0m\u001b[1;33m,\u001b[0m \u001b[0mcd\u001b[0m\u001b[1;33m,\u001b[0m \u001b[0mlen\u001b[0m\u001b[1;33m(\u001b[0m\u001b[0mrecords\u001b[0m\u001b[1;33m)\u001b[0m\u001b[1;33m,\u001b[0m \u001b[0mget_avg_ln_covered_per_file\u001b[0m\u001b[1;33m(\u001b[0m\u001b[0mrecords\u001b[0m\u001b[1;33m)\u001b[0m\u001b[1;33m)\u001b[0m\u001b[1;33m\u001b[0m\u001b[1;33m\u001b[0m\u001b[0m\n\u001b[0m\u001b[0;32m     19\u001b[0m             \u001b[0mresult_set\u001b[0m\u001b[1;33m.\u001b[0m\u001b[0mappend\u001b[0m\u001b[1;33m(\u001b[0m\u001b[1;33m[\u001b[0m\u001b[0mss\u001b[0m\u001b[1;33m,\u001b[0m \u001b[0mcd\u001b[0m\u001b[1;33m,\u001b[0m \u001b[0mlen\u001b[0m\u001b[1;33m(\u001b[0m\u001b[0mrecords\u001b[0m\u001b[1;33m)\u001b[0m\u001b[1;33m,\u001b[0m \u001b[0mget_avg_ln_covered_per_file\u001b[0m\u001b[1;33m(\u001b[0m\u001b[0mrecords\u001b[0m\u001b[1;33m)\u001b[0m\u001b[1;33m]\u001b[0m\u001b[1;33m)\u001b[0m\u001b[1;33m\u001b[0m\u001b[1;33m\u001b[0m\u001b[0m\n\u001b[0;32m     20\u001b[0m             \u001b[1;31m#break\u001b[0m\u001b[1;33m\u001b[0m\u001b[1;33m\u001b[0m\u001b[1;33m\u001b[0m\u001b[0m\n",
      "\u001b[1;32m<ipython-input-40-05174b99c65b>\u001b[0m in \u001b[0;36mget_avg_ln_covered_per_file\u001b[1;34m(records)\u001b[0m\n\u001b[0;32m     22\u001b[0m     \u001b[1;31m#print(total/file_count)\u001b[0m\u001b[1;33m\u001b[0m\u001b[1;33m\u001b[0m\u001b[1;33m\u001b[0m\u001b[0m\n\u001b[0;32m     23\u001b[0m     \u001b[0mprint\u001b[0m\u001b[1;33m(\u001b[0m\u001b[1;34m\"File Count:\"\u001b[0m\u001b[1;33m,\u001b[0m \u001b[0mfile_count\u001b[0m\u001b[1;33m)\u001b[0m\u001b[1;33m\u001b[0m\u001b[1;33m\u001b[0m\u001b[0m\n\u001b[1;32m---> 24\u001b[1;33m     \u001b[1;32mreturn\u001b[0m \u001b[0mround\u001b[0m\u001b[1;33m(\u001b[0m\u001b[0mtotal\u001b[0m\u001b[1;33m/\u001b[0m\u001b[0mfile_count\u001b[0m\u001b[1;33m,\u001b[0m \u001b[1;36m2\u001b[0m\u001b[1;33m)\u001b[0m\u001b[1;33m\u001b[0m\u001b[1;33m\u001b[0m\u001b[0m\n\u001b[0m",
      "\u001b[1;31mZeroDivisionError\u001b[0m: division by zero"
     ]
    }
   ],
   "source": [
    "result_set=[[\"subject_system\", \"clone_detector\", \"num_files\", \"total_unique_lines\"]]\n",
    "for ss in subject_systems:\n",
    "    try:\n",
    "        mySQLconnection = mysql.connector.connect(\n",
    "            host='localhost',\n",
    "            port=3308,\n",
    "            database='cochange_'+ss,\n",
    "            user='root',\n",
    "            password='')\n",
    "        cursor1 = mySQLconnection.cursor()\n",
    "        for cd in clone_detectors:\n",
    "            print(\"Working for:\",ss,cd)\n",
    "            query=\"SELECT `file_name`, GROUP_CONCAT(`startline` SEPARATOR ' '), GROUP_CONCAT(`endline` SEPARATOR ' ') \"\n",
    "            query+=\"FROM `clones_\"+cd+\"` WHERE `version`=(SELECT max(`version`) FROM `change_info`) GROUP BY `file_name`\"\n",
    "            #print(query)\n",
    "            cursor1.execute(query)\n",
    "            records = cursor1.fetchall()\n",
    "            total=get_avg_ln_covered_per_file(records)\n",
    "            print(ss, cd, len(records), total)\n",
    "            result_set.append([ss, cd, len(records), get_avg_ln_covered_per_file(records)])\n",
    "            #break\n",
    "\n",
    "    except Error as e:\n",
    "        print(\"Error reading data from MySQL table\", e, ss)\n",
    "    finally:\n",
    "        if (mySQLconnection.is_connected()):\n",
    "            mySQLconnection.close()\n",
    "            cursor1.close()\n",
    "            #print(\"MySQL connection is closed\")\n",
    "    #break\n",
    "    \n",
    "pd.DataFrame(result_set).to_csv(data_loc+\"avg_unique_line_coverage.csv\", header=False, index=False)"
   ]
  },
  {
   "cell_type": "code",
   "execution_count": 43,
   "metadata": {},
   "outputs": [
    {
     "name": "stdout",
     "output_type": "stream",
     "text": [
      "Working for: camellia deckard_2_0\n",
      "File Count: 49\n",
      "camellia deckard_2_0 49 511.78\n",
      "File Count: 49\n"
     ]
    }
   ],
   "source": [
    "subject_systems=[\"camellia\"]\n",
    "clone_detectors=[\"deckard_2_0\"]\n",
    "result_set=[[\"subject_system\", \"clone_detector\", \"num_files\", \"avg_unique_lines\"]]\n",
    "for ss in subject_systems:\n",
    "    try:\n",
    "        mySQLconnection = mysql.connector.connect(\n",
    "            host='localhost',\n",
    "            port=3308,\n",
    "            database='cochange_'+ss,\n",
    "            user='root',\n",
    "            password='')\n",
    "        cursor1 = mySQLconnection.cursor()\n",
    "        for cd in clone_detectors:\n",
    "            print(\"Working for:\",ss,cd)\n",
    "            query=\"SELECT `file_name`, GROUP_CONCAT(`startline` SEPARATOR ' '), GROUP_CONCAT(`endline` SEPARATOR ' ') \"\n",
    "            query+=\"FROM `clones_\"+cd+\"` WHERE `version`=(SELECT max(`version`) FROM `change_info`) GROUP BY `file_name`\"\n",
    "            #print(query)\n",
    "            cursor1.execute(query)\n",
    "            records = cursor1.fetchall()\n",
    "            print(ss, cd, len(records), get_avg_ln_covered_per_file(records))\n",
    "            result_set.append([ss, cd, len(records), get_avg_ln_covered_per_file(records)])\n",
    "            #break\n",
    "\n",
    "    except Error as e:\n",
    "        print(\"Error reading data from MySQL table\", e, ss)\n",
    "    finally:\n",
    "        if (mySQLconnection.is_connected()):\n",
    "            mySQLconnection.close()\n",
    "            cursor1.close()\n",
    "            #print(\"MySQL connection is closed\")\n",
    "    #break\n",
    "    \n",
    "pd.DataFrame(result_set).to_csv(data_loc+\"avg_unique_line_coverage.csv\", header=False, index=False)"
   ]
  },
  {
   "cell_type": "code",
   "execution_count": 8,
   "metadata": {},
   "outputs": [
    {
     "name": "stdout",
     "output_type": "stream",
     "text": [
      "Working: jedit simian 4001\n"
     ]
    }
   ],
   "source": []
  },
  {
   "cell_type": "code",
   "execution_count": 3,
   "metadata": {},
   "outputs": [],
   "source": []
  },
  {
   "cell_type": "code",
   "execution_count": 16,
   "metadata": {},
   "outputs": [
    {
     "name": "stdout",
     "output_type": "stream",
     "text": [
      "brlcad\n",
      "carol\n",
      "ctags\n",
      "freecol\n",
      "jabref\n",
      "jedit\n"
     ]
    }
   ],
   "source": []
  },
  {
   "cell_type": "code",
   "execution_count": 18,
   "metadata": {},
   "outputs": [
    {
     "name": "stdout",
     "output_type": "stream",
     "text": [
      "(2103, 7)\n",
      "42252\n",
      "2103\n"
     ]
    }
   ],
   "source": []
  }
 ],
 "metadata": {
  "kernelspec": {
   "display_name": "Python 3",
   "language": "python",
   "name": "python3"
  },
  "language_info": {
   "codemirror_mode": {
    "name": "ipython",
    "version": 3
   },
   "file_extension": ".py",
   "mimetype": "text/x-python",
   "name": "python",
   "nbconvert_exporter": "python",
   "pygments_lexer": "ipython3",
   "version": "3.7.6"
  }
 },
 "nbformat": 4,
 "nbformat_minor": 2
}
