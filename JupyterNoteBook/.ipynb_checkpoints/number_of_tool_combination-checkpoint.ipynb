{
 "cells": [
  {
   "cell_type": "code",
   "execution_count": 2,
   "metadata": {},
   "outputs": [],
   "source": [
    "import operator as op\n",
    "from functools import reduce\n",
    "\n",
    "def ncr(n, r):\n",
    "    r = min(r, n-r)\n",
    "    numer = reduce(op.mul, range(n, n-r, -1), 1)\n",
    "    denom = reduce(op.mul, range(1, r+1), 1)\n",
    "    return numer / denom"
   ]
  },
  {
   "cell_type": "code",
   "execution_count": 3,
   "metadata": {},
   "outputs": [
    {
     "name": "stdout",
     "output_type": "stream",
     "text": [
      "6\n",
      "15\n",
      "20\n",
      "15\n",
      "6\n",
      "Total: 62\n"
     ]
    }
   ],
   "source": [
    "sum=0\n",
    "for r in range(1, 6):\n",
    "    combinations=int(ncr(6, r))\n",
    "    print(combinations)\n",
    "    sum+=combinations\n",
    "    \n",
    "print(\"Total:\", sum)"
   ]
  },
  {
   "cell_type": "code",
   "execution_count": 14,
   "metadata": {},
   "outputs": [
    {
     "name": "stdout",
     "output_type": "stream",
     "text": [
      "4\n",
      "6\n",
      "4\n",
      "1\n",
      "Total: 15\n"
     ]
    }
   ],
   "source": [
    "sum=0\n",
    "for r in range(1, 5):\n",
    "    combinations=int(ncr(4, r))\n",
    "    print(combinations)\n",
    "    sum+=combinations\n",
    "    \n",
    "print(\"Total:\", sum)"
   ]
  },
  {
   "cell_type": "code",
   "execution_count": 2,
   "metadata": {},
   "outputs": [
    {
     "name": "stdout",
     "output_type": "stream",
     "text": [
      "conqat\n",
      "deckard\n",
      "iclones\n",
      "nicad5\n",
      "simcad\n",
      "simian\n",
      "conqat, deckard\n",
      "conqat, iclones\n",
      "conqat, nicad5\n",
      "conqat, simcad\n",
      "conqat, simian\n",
      "deckard, iclones\n",
      "deckard, nicad5\n",
      "deckard, simcad\n",
      "deckard, simian\n",
      "iclones, nicad5\n",
      "iclones, simcad\n",
      "iclones, simian\n",
      "nicad5, simcad\n",
      "nicad5, simian\n",
      "simcad, simian\n",
      "conqat, deckard, iclones\n",
      "conqat, deckard, nicad5\n",
      "conqat, deckard, simcad\n",
      "conqat, deckard, simian\n",
      "conqat, iclones, nicad5\n",
      "conqat, iclones, simcad\n",
      "conqat, iclones, simian\n",
      "conqat, nicad5, simcad\n",
      "conqat, nicad5, simian\n",
      "conqat, simcad, simian\n",
      "deckard, iclones, nicad5\n",
      "deckard, iclones, simcad\n",
      "deckard, iclones, simian\n",
      "deckard, nicad5, simcad\n",
      "deckard, nicad5, simian\n",
      "deckard, simcad, simian\n",
      "iclones, nicad5, simcad\n",
      "iclones, nicad5, simian\n",
      "iclones, simcad, simian\n",
      "nicad5, simcad, simian\n",
      "conqat, deckard, iclones, nicad5\n",
      "conqat, deckard, iclones, simcad\n",
      "conqat, deckard, iclones, simian\n",
      "conqat, deckard, nicad5, simcad\n",
      "conqat, deckard, nicad5, simian\n",
      "conqat, deckard, simcad, simian\n",
      "conqat, iclones, nicad5, simcad\n",
      "conqat, iclones, nicad5, simian\n",
      "conqat, iclones, simcad, simian\n",
      "conqat, nicad5, simcad, simian\n",
      "deckard, iclones, nicad5, simcad\n",
      "deckard, iclones, nicad5, simian\n",
      "deckard, iclones, simcad, simian\n",
      "deckard, nicad5, simcad, simian\n",
      "iclones, nicad5, simcad, simian\n",
      "conqat, deckard, iclones, nicad5, simcad\n",
      "conqat, deckard, iclones, nicad5, simian\n",
      "conqat, deckard, iclones, simcad, simian\n",
      "conqat, deckard, nicad5, simcad, simian\n",
      "conqat, iclones, nicad5, simcad, simian\n",
      "deckard, iclones, nicad5, simcad, simian\n",
      "\n",
      "Number of Combinations: 62\n"
     ]
    }
   ],
   "source": [
    "import itertools\n",
    "#for L in range(46):\n",
    "# top45=[\"ADD\", \"MUL\", \"MAX\", \"STD\"]\n",
    "top45=[\"bow\", \"commit_pattern\", \"github\"]\n",
    "combination_cnt=0\n",
    "for L in range(1, 3):\n",
    "    for subset in itertools.combinations(top45, L):\n",
    "        if(len(subset)>0):\n",
    "            fstr=\"\"\n",
    "            flg=0\n",
    "            for s in subset:\n",
    "                if(flg>0):\n",
    "                    fstr+=\", \"\n",
    "                fstr+=s\n",
    "                flg=1\n",
    "            print(fstr)\n",
    "            combination_cnt+=1\n",
    "            \n",
    "print(\"\\nNumber of Combinations:\", combination_cnt)\n"
   ]
  }
 ],
 "metadata": {
  "kernelspec": {
   "display_name": "Python 3",
   "language": "python",
   "name": "python3"
  },
  "language_info": {
   "codemirror_mode": {
    "name": "ipython",
    "version": 3
   },
   "file_extension": ".py",
   "mimetype": "text/x-python",
   "name": "python",
   "nbconvert_exporter": "python",
   "pygments_lexer": "ipython3",
   "version": "3.7.6"
  }
 },
 "nbformat": 4,
 "nbformat_minor": 2
}
