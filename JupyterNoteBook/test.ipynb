{
 "cells": [
  {
   "cell_type": "code",
   "execution_count": 12,
   "metadata": {},
   "outputs": [],
   "source": [
    "data_loc=\"H:/detected_clone_results/cloneworks_freecol/\"\n",
    "clone_types=[\"type3pattern\", \"type3token\"]"
   ]
  },
  {
   "cell_type": "code",
   "execution_count": null,
   "metadata": {},
   "outputs": [],
   "source": [
    "for ct in clone_types:\n",
    "    for i in range(1900, 1910):\n",
    "        clones=open(data_loc+ct+\"/revision-\"+str(i)+\".clones\",\"r\").read().strip().split('\\n') \n",
    "        \n",
    "        clone_pairs=[]\n",
    "        count=0\n",
    "        for c in clones:            \n",
    "            if(c[0]!='#'):\n",
    "                pair_arr=c.split(',')\n",
    "                if([pair_arr[3], pair_arr[4], pair_arr[5], pair_arr[0], pair_arr[1], pair_arr[2]] not in clone_pairs):\n",
    "                    clone_pairs.append(pair_arr)\n",
    "            else:\n",
    "                count+=1\n",
    "                \n",
    "        if((len(clones)-count)!=len(clone_pairs)):\n",
    "            print(ct, i, len(clones), count, len(clone_pairs))        \n",
    "    "
   ]
  },
  {
   "cell_type": "code",
   "execution_count": 5,
   "metadata": {},
   "outputs": [
    {
     "name": "stdout",
     "output_type": "stream",
     "text": [
      "15510\n",
      "15500\n",
      "15500\n",
      "162,258,261,162,288,291\n"
     ]
    }
   ],
   "source": [
    "print(len(clones))\n",
    "clone_pairs=[]\n",
    "for c in clones:\n",
    "    if(c[0]!='#'):\n",
    "        clone_pairs.append(c)\n",
    "        \n",
    "print(len(clone_pairs))\n",
    "\n",
    "unique_pairs=[]\n",
    "for c in clone_pairs:\n",
    "    if c not in unique_pairs:\n",
    "        unique_pairs.append(c)\n",
    "        \n",
    "print(len(unique_pairs))\n",
    "print(c)"
   ]
  }
 ],
 "metadata": {
  "kernelspec": {
   "display_name": "Python 3",
   "language": "python",
   "name": "python3"
  },
  "language_info": {
   "codemirror_mode": {
    "name": "ipython",
    "version": 3
   },
   "file_extension": ".py",
   "mimetype": "text/x-python",
   "name": "python",
   "nbconvert_exporter": "python",
   "pygments_lexer": "ipython3",
   "version": "3.7.3"
  }
 },
 "nbformat": 4,
 "nbformat_minor": 2
}
