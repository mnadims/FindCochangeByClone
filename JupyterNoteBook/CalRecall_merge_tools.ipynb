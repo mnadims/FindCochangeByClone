{
 "cells": [
  {
   "cell_type": "code",
   "execution_count": 2,
   "metadata": {},
   "outputs": [],
   "source": [
    "# This file generates the Recall of detecting cloned cochanges from each of the subject systems\n",
    "# considering merging combinations of the clone detection tools. "
   ]
  },
  {
   "cell_type": "code",
   "execution_count": 3,
   "metadata": {},
   "outputs": [],
   "source": [
    "import pandas as pd"
   ]
  },
  {
   "cell_type": "code",
   "execution_count": 6,
   "metadata": {},
   "outputs": [],
   "source": [
    "data_loc =\"C:/Users/mdn769/FindCochangeByClone/data_files/final_dataset/\""
   ]
  },
  {
   "cell_type": "code",
   "execution_count": 20,
   "metadata": {},
   "outputs": [],
   "source": [
    "tools_combinations=open(data_loc+\"merge_tools_combinations.txt\", \"r\").read().split('\\n') \n",
    "# for tc in tools_combinations:\n",
    "#     print(tc)\n",
    "#print(tools_combinations)"
   ]
  },
  {
   "cell_type": "code",
   "execution_count": 15,
   "metadata": {},
   "outputs": [],
   "source": [
    "# for j in range(0, len(tools_combinations)):\n",
    "#     print(tools_combinations[j].split(','))\n",
    "    "
   ]
  },
  {
   "cell_type": "code",
   "execution_count": 22,
   "metadata": {},
   "outputs": [
    {
     "name": "stdout",
     "output_type": "stream",
     "text": [
      "Done:  brlcad\n",
      "Done:  carol\n",
      "Done:  ctags\n",
      "Done:  freecol\n",
      "Done:  jabref\n",
      "Done:  jedit\n"
     ]
    }
   ],
   "source": [
    "# List of Subject Systems and Clone Detectors!!!\n",
    "subject_systems=[\"brlcad\", \"carol\", \"ctags\", \"freecol\", \"jabref\", \"jedit\"]\n",
    "#subject_systems=[\"brlcad\"]\n",
    "clone_detectors=[\"conqat\", \"deckard\", \"iclones\", \"nicad5\", \"simcad\", \"simian\"]\n",
    "\n",
    "# This is the declaration if you want to check the functinality for one subject sytems and clone detector. \n",
    "# subject_systems=[\"brlcad\"]\n",
    "# clone_detectors=[\"conqat\"]\n",
    "\n",
    "# Work for every subject systems. \n",
    "for ss in subject_systems: \n",
    "    # Read the cochange file stored in CSV. \n",
    "    df_cochange = pd.read_csv(data_loc+\"cochanges/\"+ss+\"_cochanges.csv\", sep=',', header=0, encoding='utf-8')\n",
    "    df_cochange=df_cochange.fillna(0).copy() # Fill the cell with no cochange by zero.\n",
    "\n",
    "    #Make the header of the result file\n",
    "    result_set = [[\"change_id\", \"num_change\"]]\n",
    "    for tc in tools_combinations:\n",
    "        if(tc!=''):\n",
    "            result_set[0].append(tc.strip())\n",
    "    #print(result_set)\n",
    "        \n",
    "    for i in range(len(df_cochange)):\n",
    "        line_accuracy=[]\n",
    "        list_cochange=[]\n",
    "        \n",
    "        # Collect Uniques Cochanges as Cloned Cochanges\n",
    "        for j in range(0, len(clone_detectors)):\n",
    "            cochange=df_cochange[clone_detectors[j]][i]\n",
    "            if(cochange!=0):\n",
    "                for c in cochange.split(', '):\n",
    "                    if(c not in list_cochange):\n",
    "                        list_cochange.append(c)\n",
    "        #Cloned Cochange are collected in list_cochange[]\n",
    "        num_cloned_cochange=len(list_cochange)\n",
    "        line_accuracy.append(df_cochange[\"change_id\"][i])\n",
    "        line_accuracy.append(num_cloned_cochange) # Second column of Result list are stored. \n",
    "        \n",
    "        # Start Calculating Recall for eache of the Merge Combinations. \n",
    "        for j in range(0, len(tools_combinations)): \n",
    "            combined_cochange=[]\n",
    "            merged_tools=tools_combinations[j].split(',')\n",
    "            for mt in merged_tools:\n",
    "                tool_name=mt.strip()\n",
    "                #print(tool_name, mt.strip())\n",
    "                if(df_cochange[tool_name][i]!=0):\n",
    "                    c_list=df_cochange[tool_name][i].split(', ')\n",
    "                    for c in c_list:\n",
    "                        if(c not in combined_cochange):\n",
    "                            combined_cochange.append(c)\n",
    "            #Collected Combined Cochanges in combined_cochange[]\n",
    "            accuracy=len(combined_cochange)/num_cloned_cochange\n",
    "\n",
    "            line_accuracy.append(accuracy)\n",
    "\n",
    "        result_set.append(line_accuracy)\n",
    "#         if(i==10):\n",
    "#             break\n",
    "\n",
    "    pd.DataFrame(result_set).to_csv(data_loc+\"merged_recall_all/\"+ss+\"_merged_recall.csv\", header=False, index=False)\n",
    "    print(\"Done: \", ss)"
   ]
  },
  {
   "cell_type": "code",
   "execution_count": 18,
   "metadata": {},
   "outputs": [
    {
     "name": "stdout",
     "output_type": "stream",
     "text": [
      "(2103, 7)\n",
      "42252\n",
      "2103\n"
     ]
    }
   ],
   "source": [
    "#This if for test!!!\n",
    "print(df_cochange.shape)\n",
    "print(df_cochange[\"conqat\"][0])\n",
    "print(len(df_cochange))"
   ]
  }
 ],
 "metadata": {
  "kernelspec": {
   "display_name": "Python 3",
   "language": "python",
   "name": "python3"
  },
  "language_info": {
   "codemirror_mode": {
    "name": "ipython",
    "version": 3
   },
   "file_extension": ".py",
   "mimetype": "text/x-python",
   "name": "python",
   "nbconvert_exporter": "python",
   "pygments_lexer": "ipython3",
   "version": "3.7.6"
  }
 },
 "nbformat": 4,
 "nbformat_minor": 2
}
