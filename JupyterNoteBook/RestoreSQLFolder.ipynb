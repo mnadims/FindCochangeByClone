{
 "cells": [
  {
   "cell_type": "code",
   "execution_count": 1,
   "metadata": {},
   "outputs": [],
   "source": [
    "from os import listdir\n",
    "from os.path import isfile, join"
   ]
  },
  {
   "cell_type": "code",
   "execution_count": 2,
   "metadata": {
    "scrolled": false
   },
   "outputs": [
    {
     "name": "stdout",
     "output_type": "stream",
     "text": [
      "DROP DATABASE IF EXISTS cochange_jedit;\n",
      "\n",
      "CREATE DATABASE IF NOT EXISTS cochange_jedit;\n",
      "\n",
      "USE cochange_jedit;\n",
      "\n",
      "source H:/ResearchDBBackup/cochange/finally_done/cochange_jedit/cochange_jedit_full.sql\n",
      "\n"
     ]
    }
   ],
   "source": [
    "db_name=\"cochange_jedit\"\n",
    "data_loc=\"H:/ResearchDBBackup/cochange/finally_done/\"+db_name+\"/\"\n",
    "onlyfiles = [f for f in listdir(data_loc) if isfile(join(data_loc, f))]\n",
    "print(\"DROP DATABASE IF EXISTS \"+db_name+\";\\n\")\n",
    "print(\"CREATE DATABASE IF NOT EXISTS \"+db_name+\";\\n\")\n",
    "print(\"USE \"+db_name+\";\\n\")\n",
    "for f in onlyfiles:\n",
    "    print(\"source \"+data_loc+f+\"\\n\")"
   ]
  },
  {
   "cell_type": "code",
   "execution_count": 6,
   "metadata": {},
   "outputs": [
    {
     "name": "stdout",
     "output_type": "stream",
     "text": [
      "source H:/detected_clone_results/Temp/cochange_jedit_lab.sql\n",
      "\n"
     ]
    }
   ],
   "source": [
    "data_loc=\"H:/detected_clone_results/Temp/\"\n",
    "onlyfiles = [f for f in listdir(data_loc) if isfile(join(data_loc, f))]\n",
    "for f in onlyfiles:\n",
    "    print(\"source \"+data_loc+f)\n",
    "print()"
   ]
  }
 ],
 "metadata": {
  "kernelspec": {
   "display_name": "Python 3",
   "language": "python",
   "name": "python3"
  },
  "language_info": {
   "codemirror_mode": {
    "name": "ipython",
    "version": 3
   },
   "file_extension": ".py",
   "mimetype": "text/x-python",
   "name": "python",
   "nbconvert_exporter": "python",
   "pygments_lexer": "ipython3",
   "version": "3.7.6"
  }
 },
 "nbformat": 4,
 "nbformat_minor": 4
}
