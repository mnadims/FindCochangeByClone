{
 "cells": [
  {
   "cell_type": "code",
   "execution_count": 1,
   "metadata": {},
   "outputs": [],
   "source": [
    "from IPython.display import clear_output\n",
    "from os import path\n",
    "data_loc=\"D:/H_Programming_Data/detected_clone_results/\""
   ]
  },
  {
   "cell_type": "code",
   "execution_count": 21,
   "metadata": {},
   "outputs": [
    {
     "name": "stdout",
     "output_type": "stream",
     "text": [
      "Working for jedit Revision: 4001\n"
     ]
    }
   ],
   "source": [
    "ss=\"jedit\"\n",
    "query_str=\"\"\n",
    "query_split=5000\n",
    "for rev in range(3787, 4002):\n",
    "    clear_output(wait=True)\n",
    "    print(\"Working for\", ss, \"Revision:\", rev)\n",
    "    if(path.exists(data_loc+\"duplo_\"+ss+\"/revision-\"+str(rev)+\".xml\")== False):\n",
    "        continue\n",
    "    result=open(data_loc+\"duplo_\"+ss+\"/revision-\"+str(rev)+\".xml\",\"r\", encoding=\"utf-8\").read().strip().split('\\n') \n",
    "    num_pairs=0   \n",
    "    for i in range(len(result)):\n",
    "        cur_line=result[i].strip()\n",
    "#         print(cur_line)\n",
    "        if(cur_line[0:15]==\"<set LineCount=\"):   \n",
    "            if(i>(len(result)-2)):\n",
    "                continue\n",
    "            LineCount=cur_line[16:-2]\n",
    "            block_1=result[i+1].split()\n",
    "            if(len(block_1)<3):\n",
    "                continue\n",
    "            filename_1=block_1[1][12:-1].replace(\"D:/H_Programming_Data/subject_systems/\"+ss+\"/revision-\"+str(rev)+\"/\", \"\")\n",
    "            startline_1=block_1[2][17:-3]\n",
    "\n",
    "    #         print(filename_1, startline_1)\n",
    "\n",
    "            block_2=result[i+2].split()\n",
    "            if(len(block_2)<3):\n",
    "                continue\n",
    "#             print(block_2)\n",
    "            filename_2=block_2[1][12:-1].replace(\"D:/H_Programming_Data/subject_systems/\"+ss+\"/revision-\"+str(rev)+\"/\", \"\")\n",
    "            startline_2=block_2[2][17:-3]\n",
    "    #         print(filename_2, startline_2)\n",
    "    #         print()\n",
    "\n",
    "            if(num_pairs%query_split==0):\n",
    "                query_str+=\";\\n\\nINSERT INTO `clones_duplo` (`version`, `ClonePair`, `file_name`, `startline`, `endline`) VALUES \\n\"\n",
    "            elif(num_pairs>0):\n",
    "                query_str+=\",\\n\"\n",
    "\n",
    "            query_str+=\"('\"+str(rev)+\"', '\"+str(num_pairs)+\"', '\"+filename_1+\"', '\"+startline_1+\"', '\"+str(int(startline_1)+int(LineCount))+\"'),\\n\"\n",
    "            query_str+=\"('\"+str(rev)+\"', '\"+str(num_pairs)+\"', '\"+filename_2+\"', '\"+startline_2+\"', '\"+str(int(startline_1)+int(LineCount))+\"')\"\n",
    "            num_pairs+=1\n",
    "            i+=2\n",
    "query_str+=\";\\n\"            \n",
    "# print(query_str[3:])\n",
    "# print()\n",
    "\n",
    "with open(data_loc+\"../\"+ss+\"_duplo.sql\", \"w\") as text_file:\n",
    "            text_file.write(query_str[3:])\n",
    "            "
   ]
  },
  {
   "cell_type": "code",
   "execution_count": 18,
   "metadata": {},
   "outputs": [
    {
     "name": "stdout",
     "output_type": "stream",
     "text": [
      "16\n"
     ]
    }
   ],
   "source": [
    "print(len(\"StartLineNumber=\"))"
   ]
  },
  {
   "cell_type": "code",
   "execution_count": null,
   "metadata": {},
   "outputs": [],
   "source": []
  }
 ],
 "metadata": {
  "kernelspec": {
   "display_name": "Python 3",
   "language": "python",
   "name": "python3"
  },
  "language_info": {
   "codemirror_mode": {
    "name": "ipython",
    "version": 3
   },
   "file_extension": ".py",
   "mimetype": "text/x-python",
   "name": "python",
   "nbconvert_exporter": "python",
   "pygments_lexer": "ipython3",
   "version": "3.7.3"
  }
 },
 "nbformat": 4,
 "nbformat_minor": 2
}
