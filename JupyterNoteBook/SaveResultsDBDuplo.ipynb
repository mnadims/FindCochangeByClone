{
 "cells": [
  {
   "cell_type": "code",
   "execution_count": 1,
   "metadata": {},
   "outputs": [],
   "source": [
    "from IPython.display import clear_output\n",
    "from os import path\n",
    "data_loc=\"D:/H_Programming_Data/detected_clone_results/\""
   ]
  },
  {
   "cell_type": "code",
   "execution_count": 3,
   "metadata": {},
   "outputs": [
    {
     "name": "stdout",
     "output_type": "stream",
     "text": [
      "Working for jabref Revision: 1544\n"
     ]
    }
   ],
   "source": [
    "ss=\"jabref\"\n",
    "query_str=\"\"\n",
    "query_split=5000\n",
    "for rev in range(2, 1545):\n",
    "    clear_output(wait=True)\n",
    "    print(\"Working for\", ss, \"Revision:\", rev)\n",
    "    if(path.exists(data_loc+\"duplo_\"+ss+\"/revision-\"+str(rev)+\".xml\")== False):\n",
    "        continue\n",
    "    result=open(data_loc+\"duplo_\"+ss+\"/revision-\"+str(rev)+\".xml\",\"r\", encoding=\"utf-8\").read().strip().split('\\n') \n",
    "    num_pairs=0   \n",
    "    for i in range(len(result)):\n",
    "        cur_line=result[i].strip()\n",
    "#         print(cur_line)\n",
    "        if(cur_line[0:15]==\"<set LineCount=\"):   \n",
    "            if(i>(len(result)-2)):\n",
    "                continue\n",
    "            LineCount=cur_line[16:-2]\n",
    "            block_1=result[i+1].split()\n",
    "            if(len(block_1)<3):\n",
    "                continue\n",
    "            filename_1=block_1[1][12:-1].replace(\"D:/H_Programming_Data/subject_systems/\"+ss+\"/revision-\"+str(rev)+\"/\", \"\")\n",
    "            startline_1=block_1[2][17:-3]\n",
    "\n",
    "    #         print(filename_1, startline_1)\n",
    "\n",
    "            block_2=result[i+2].split()\n",
    "            if(len(block_2)<3):\n",
    "                continue\n",
    "#             print(block_2)\n",
    "            filename_2=block_2[1][12:-1].replace(\"D:/H_Programming_Data/subject_systems/\"+ss+\"/revision-\"+str(rev)+\"/\", \"\")\n",
    "            startline_2=block_2[2][17:-3]\n",
    "    #         print(filename_2, startline_2)\n",
    "    #         print()\n",
    "\n",
    "            if(num_pairs%query_split==0):\n",
    "                query_str+=\";\\n\\nINSERT INTO `clones_duplo` (`version`, `ClonePair`, `file_name`, `startline`, `endline`) VALUES \\n\"\n",
    "            elif(num_pairs>0):\n",
    "                query_str+=\",\\n\"\n",
    "\n",
    "            query_str+=\"('\"+str(rev)+\"', '\"+str(num_pairs)+\"', '\"+filename_1+\"', '\"+startline_1+\"', '\"+str(int(startline_1)+int(LineCount))+\"'),\\n\"\n",
    "            query_str+=\"('\"+str(rev)+\"', '\"+str(num_pairs)+\"', '\"+filename_2+\"', '\"+startline_2+\"', '\"+str(int(startline_1)+int(LineCount))+\"')\"\n",
    "            num_pairs+=1\n",
    "            i+=2\n",
    "query_str+=\";\\n\"            \n",
    "# print(query_str[3:])\n",
    "# print()\n",
    "\n",
    "with open(data_loc+\"../\"+ss+\"_duplo.sql\", \"w\") as text_file:\n",
    "            text_file.write(query_str[3:])\n",
    "            "
   ]
  },
  {
   "cell_type": "code",
   "execution_count": 20,
   "metadata": {},
   "outputs": [
    {
     "name": "stdout",
     "output_type": "stream",
     "text": [
      "29\n",
      "[3915, 3917], [3918, 3920], [3921, 3923], [3924, 3926], [3927, 3929], [3930, 3932], [3933, 3935], [3936, 3938], [3939, 3941], [3942, 3944], [3945, 3947], [3948, 3950], [3951, 3953], [3954, 3956], [3957, 3959], [3960, 3962], [3963, 3965], [3966, 3968], [3969, 3971], [3972, 3974], [3975, 3977], [3978, 3980], [3981, 3983], [3984, 3986], [3987, 3989], [3990, 3992], [3993, 3995], [3996, 3998], [3999, 4001], \n"
     ]
    }
   ],
   "source": [
    "subject_systems=[\"jedit\", \"jedit\", \"jedit\", \"jedit\", \"jedit\", \"jedit\", \"jedit\", \"jedit\", \"jedit\", \"jedit\", \"jedit\", \"jedit\", \"jedit\", \"jedit\", \"jedit\"\n",
    "                , \"jedit\", \"jedit\", \"jedit\", \"jedit\", \"jedit\", \"jedit\", \"jedit\", \"jedit\", \"jedit\", \"jedit\", \"jedit\", \"jedit\", \"jedit\", \"jedit\"]\n",
    "print(len(subject_systems))\n",
    "range_values=\"\"\n",
    "for i in range(3915, 4001, 3):\n",
    "    range_values+=\"[\"+str(i)+\", \"+str(i+2)+\"], \"\n",
    "    #print(i, i+4)\n",
    "    \n",
    "print(range_values)"
   ]
  },
  {
   "cell_type": "code",
   "execution_count": 19,
   "metadata": {},
   "outputs": [
    {
     "name": "stdout",
     "output_type": "stream",
     "text": [
      "29\n"
     ]
    }
   ],
   "source": [
    "revisions=[[3915, 3917], [3918, 3920], [3921, 3923], [3924, 3926], [3927, 3929], [3930, 3932], [3933, 3935], [3936, 3938], [3939, 3941], [3942, 3944], [3945, 3947], [3948, 3950], [3951, 3953], [3954, 3956], [3957, 3959], [3960, 3962], [3963, 3965], [3966, 3968], [3969, 3971], [3972, 3974], [3975, 3977], [3978, 3980], [3981, 3983], [3984, 3986], [3987, 3989], [3990, 3992], [3993, 3995], [3996, 3998], [3999, 4001]]\n",
    "print(len(revisions))"
   ]
  },
  {
   "cell_type": "code",
   "execution_count": 22,
   "metadata": {},
   "outputs": [
    {
     "name": "stdout",
     "output_type": "stream",
     "text": [
      "29 29 29\n"
     ]
    }
   ],
   "source": [
    "subject_systems=[\"jedit\", \"jedit\", \"jedit\", \"jedit\", \"jedit\", \"jedit\", \"jedit\", \"jedit\", \"jedit\", \"jedit\", \"jedit\", \"jedit\", \"jedit\", \"jedit\", \"jedit\"\n",
    "                , \"jedit\", \"jedit\", \"jedit\", \"jedit\", \"jedit\", \"jedit\", \"jedit\", \"jedit\", \"jedit\", \"jedit\", \"jedit\", \"jedit\", \"jedit\", \"jedit\"]\n",
    "revisions=[[3915, 3917], [3918, 3920], [3921, 3923], [3924, 3926], [3927, 3929], [3930, 3932], [3933, 3935], [3936, 3938], [3939, 3941], [3942, 3944], [3945, 3947], [3948, 3950], [3951, 3953], [3954, 3956], [3957, 3959], [3960, 3962], [3963, 3965], [3966, 3968], [3969, 3971], [3972, 3974], [3975, 3977], [3978, 3980], [3981, 3983], [3984, 3986], [3987, 3989], [3990, 3992], [3993, 3995], [3996, 3998], [3999, 4001]]\n",
    "clone_types=[\"type3pattern\", \"type3pattern\", \"type3pattern\", \"type3pattern\", \"type3pattern\", \"type3pattern\", \"type3pattern\", \"type3pattern\", \"type3pattern\", \"type3pattern\",\n",
    "             \"type3pattern\", \"type3pattern\", \"type3pattern\", \"type3pattern\", \"type3pattern\", \"type3pattern\", \"type3pattern\", \"type3pattern\", \"type3pattern\", \"type3pattern\",\n",
    "             \"type3pattern\", \"type3pattern\", \"type3pattern\", \"type3pattern\", \"type3pattern\", \"type3pattern\", \"type3pattern\", \"type3pattern\", \"type3pattern\"]\n",
    "print(len(subject_systems), len(revisions), len(clone_types))"
   ]
  }
 ],
 "metadata": {
  "kernelspec": {
   "display_name": "Python 3",
   "language": "python",
   "name": "python3"
  },
  "language_info": {
   "codemirror_mode": {
    "name": "ipython",
    "version": 3
   },
   "file_extension": ".py",
   "mimetype": "text/x-python",
   "name": "python",
   "nbconvert_exporter": "python",
   "pygments_lexer": "ipython3",
   "version": "3.7.6"
  }
 },
 "nbformat": 4,
 "nbformat_minor": 2
}
