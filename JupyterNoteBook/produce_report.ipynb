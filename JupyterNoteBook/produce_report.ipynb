{
 "cells": [
  {
   "cell_type": "code",
   "execution_count": 1,
   "metadata": {},
   "outputs": [],
   "source": [
    "# This file generates the performance of detecting cloned cochanges from each of the subject systems\n",
    "# by each of the clone detection tools. "
   ]
  },
  {
   "cell_type": "code",
   "execution_count": 1,
   "metadata": {},
   "outputs": [],
   "source": [
    "import pandas as pd\n",
    "from IPython.display import clear_output"
   ]
  },
  {
   "cell_type": "code",
   "execution_count": 2,
   "metadata": {},
   "outputs": [],
   "source": [
    "data_loc =\"C:/Users/mdn769/FindCochangeByClone/data_files/final_dataset_jss/\""
   ]
  },
  {
   "cell_type": "code",
   "execution_count": 3,
   "metadata": {},
   "outputs": [
    {
     "name": "stdout",
     "output_type": "stream",
     "text": [
      "Working for : qmailadmin\n"
     ]
    }
   ],
   "source": [
    "# List of Subject Systems and Clone Detectors!!!\n",
    "# subject_systems=[\"brlcad\", \"camellia\", \"carol\", \"ctags\", \"freecol\", \"jabref\", \"jedit\", \"qmailadmin\"]\n",
    "# clone_detectors=[\"ccfinder\", \"cloneworks\" \"conqat\", \"deckard\", \"duplo\", \"iclones\", \"nicad5\", \"simcad\", \"simian\"]\n",
    "\n",
    "subject_systems=[\"camellia\", \"ctags\", \"qmailadmin\"]\n",
    "clone_detectors=[\"ccfinder\", \"cloneworks_type1\", \"cloneworks_type2blind\", \"cloneworks_type3pattern\", \n",
    "                 \"cloneworks_type3token\", \"conqat\", \"deckard\", \"duplo\", \"iclones\", \"nicad5\", \"simcad\", \"simian\"]\n",
    "\n",
    "# Work for every subject systems. \n",
    "for ss in subject_systems: \n",
    "    clear_output(wait=True)\n",
    "    print(\"Working for :\", ss)\n",
    "    # Read the cochange file stored in CSV. \n",
    "    df_cochange = pd.read_csv(data_loc+\"list_cochange_\"+ss+\".csv\", sep=',', header=0, encoding='utf-8')\n",
    "    df_cochange=df_cochange.fillna(0).copy() #Fill the blank spaces with zero!!!\n",
    "\n",
    "    ##### Produce the HEADER row of result file\n",
    "    result_set = [[\"change_id\", \"num_change\"]]\n",
    "    for cd in clone_detectors:\n",
    "        result_set[0].append(cd)\n",
    "    #-------\n",
    "    for i in range(len(df_cochange)):\n",
    "        line_accuracy=[]\n",
    "        list_cochange=[]\n",
    "        for j in range(0, len(clone_detectors)):\n",
    "            cochange=df_cochange[clone_detectors[j]][i]\n",
    "            if(cochange!=0):\n",
    "                for c in cochange.split(', '):\n",
    "                    if(c not in list_cochange):\n",
    "                        list_cochange.append(c)\n",
    "\n",
    "        #print(list_cochange)    \n",
    "        num_cochange=len(list_cochange)\n",
    "        line_accuracy.append(df_cochange[\"change_id\"][i])\n",
    "        line_accuracy.append(num_cochange)\n",
    "        for j in range(0, len(clone_detectors)):        \n",
    "            cochange=df_cochange[clone_detectors[j]][i]\n",
    "            if(cochange!=0):\n",
    "                c_list=cochange.split(', ')\n",
    "                count=0\n",
    "                for c in c_list:\n",
    "                    if(c in list_cochange):\n",
    "                        count+=1\n",
    "                accuracy=count/num_cochange\n",
    "\n",
    "            else: \n",
    "                accuracy=0\n",
    "\n",
    "            line_accuracy.append(accuracy)\n",
    "\n",
    "        result_set.append(line_accuracy)\n",
    "    #     if(i==10):\n",
    "    #         break\n",
    "\n",
    "    pd.DataFrame(result_set).to_csv(data_loc+\"recalls_\"+ss+\".csv\", header=False, index=False)"
   ]
  },
  {
   "cell_type": "code",
   "execution_count": 18,
   "metadata": {},
   "outputs": [
    {
     "name": "stdout",
     "output_type": "stream",
     "text": [
      "(2103, 7)\n",
      "42252\n",
      "2103\n"
     ]
    }
   ],
   "source": [
    "#This if for test!!!\n",
    "print(df_cochange.shape)\n",
    "print(df_cochange[\"conqat\"][0])\n",
    "print(len(df_cochange))"
   ]
  },
  {
   "cell_type": "code",
   "execution_count": null,
   "metadata": {},
   "outputs": [],
   "source": [
    "\n"
   ]
  },
  {
   "cell_type": "code",
   "execution_count": null,
   "metadata": {},
   "outputs": [],
   "source": []
  }
 ],
 "metadata": {
  "kernelspec": {
   "display_name": "Python 3",
   "language": "python",
   "name": "python3"
  },
  "language_info": {
   "codemirror_mode": {
    "name": "ipython",
    "version": 3
   },
   "file_extension": ".py",
   "mimetype": "text/x-python",
   "name": "python",
   "nbconvert_exporter": "python",
   "pygments_lexer": "ipython3",
   "version": "3.7.6"
  }
 },
 "nbformat": 4,
 "nbformat_minor": 2
}
