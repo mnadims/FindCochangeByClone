{
 "cells": [
  {
   "cell_type": "code",
   "execution_count": 2,
   "metadata": {},
   "outputs": [
    {
     "name": "stdout",
     "output_type": "stream",
     "text": [
      "DROP DATABASE IF EXISTS cochange_brlcad;\n",
      "CREATE DATABASE IF NOT EXISTS cochange_brlcad;\n",
      "use cochange_brlcad;\n",
      "source D:/01_USASK/Research DB Backup/cochange/cochange_brlcad.sql;\n",
      "\n",
      "DROP DATABASE IF EXISTS cochange_carol;\n",
      "CREATE DATABASE IF NOT EXISTS cochange_carol;\n",
      "use cochange_carol;\n",
      "source D:/01_USASK/Research DB Backup/cochange/cochange_carol.sql;\n",
      "\n",
      "DROP DATABASE IF EXISTS cochange_ctags;\n",
      "CREATE DATABASE IF NOT EXISTS cochange_ctags;\n",
      "use cochange_ctags;\n",
      "source D:/01_USASK/Research DB Backup/cochange/cochange_ctags.sql;\n",
      "\n",
      "DROP DATABASE IF EXISTS cochange_freecol;\n",
      "CREATE DATABASE IF NOT EXISTS cochange_freecol;\n",
      "use cochange_freecol;\n",
      "source D:/01_USASK/Research DB Backup/cochange/cochange_freecol.sql;\n",
      "\n",
      "DROP DATABASE IF EXISTS cochange_jabref;\n",
      "CREATE DATABASE IF NOT EXISTS cochange_jabref;\n",
      "use cochange_jabref;\n",
      "source D:/01_USASK/Research DB Backup/cochange/cochange_jabref.sql;\n",
      "\n",
      "DROP DATABASE IF EXISTS cochange_jedit;\n",
      "CREATE DATABASE IF NOT EXISTS cochange_jedit;\n",
      "use cochange_jedit;\n",
      "source D:/01_USASK/Research DB Backup/cochange/cochange_jedit.sql;\n",
      "\n"
     ]
    }
   ],
   "source": [
    "for ss in [\"brlcad\", \"carol\", \"ctags\", \"freecol\", \"jabref\", \"jedit\"]:\n",
    "    print(\"DROP DATABASE IF EXISTS cochange_\"+ss+\";\")\n",
    "    print(\"CREATE DATABASE IF NOT EXISTS cochange_\"+ss+\";\")\n",
    "    print(\"use cochange_\"+ss+\";\")\n",
    "    print(\"source D:/01_USASK/Research DB Backup/cochange/cochange_\"+ss+\".sql;\")\n",
    "    print()"
   ]
  },
  {
   "cell_type": "code",
   "execution_count": 3,
   "metadata": {},
   "outputs": [
    {
     "name": "stdout",
     "output_type": "stream",
     "text": [
      "RENAME TABLE `cochange_ctags`.`cc_deckard_2_0_merge` TO `cochange_ctags`.`list_cc_deckard_2_0`;\n",
      "RENAME TABLE `cochange_ctags`.`cc_iclones_merge` TO `cochange_ctags`.`list_cc_iclones`;\n",
      "RENAME TABLE `cochange_ctags`.`cc_nicad5_merge` TO `cochange_ctags`.`list_cc_nicad5`;\n",
      "RENAME TABLE `cochange_ctags`.`cc_simcad_merge` TO `cochange_ctags`.`list_cc_simcad`;\n",
      "RENAME TABLE `cochange_ctags`.`cc_simian_merge` TO `cochange_ctags`.`list_cc_simian`;\n"
     ]
    }
   ],
   "source": [
    "#for ss in [\"brlcad\", \"carol\", \"freecol\", \"jabref\", \"jedit\"]:\n",
    "for ss in [\"ctags\"]:\n",
    "    for cd in [\"deckard_2_0\", \"iclones\", \"nicad5\", \"simcad\", \"simian\"]:\n",
    "        print(\"RENAME TABLE `cochange_\"+ss+\"`.`cc_\"+cd+\"_merge` TO `cochange_\"+ss+\"`.`list_cc_\"+cd+\"`;\")\n",
    "        "
   ]
  },
  {
   "cell_type": "code",
   "execution_count": 8,
   "metadata": {},
   "outputs": [
    {
     "name": "stdout",
     "output_type": "stream",
     "text": [
      "SELECT MAX(length(`list_cochange`)), MAX(length(`list_used_clones`)), MAX(length(`list_total_clone`)) FROM `list_cc_conqat`;\n",
      "SELECT MAX(length(`list_cochange`)), MAX(length(`list_used_clones`)), MAX(length(`list_total_clone`)) FROM `list_cc_deckard_2_0`;\n",
      "SELECT MAX(length(`list_cochange`)), MAX(length(`list_used_clones`)), MAX(length(`list_total_clone`)) FROM `list_cc_iclones`;\n",
      "SELECT MAX(length(`list_cochange`)), MAX(length(`list_used_clones`)), MAX(length(`list_total_clone`)) FROM `list_cc_nicad5`;\n",
      "SELECT MAX(length(`list_cochange`)), MAX(length(`list_used_clones`)), MAX(length(`list_total_clone`)) FROM `list_cc_simcad`;\n",
      "SELECT MAX(length(`list_cochange`)), MAX(length(`list_used_clones`)), MAX(length(`list_total_clone`)) FROM `list_cc_simian`;\n"
     ]
    }
   ],
   "source": [
    "for cd in [\"conqat\", \"deckard_2_0\", \"iclones\", \"nicad5\", \"simcad\", \"simian\"]:\n",
    "    #print(\"RENAME TABLE `list_\"+cd+\"` TO `list_cc_\"+cd+\"`;\")\n",
    "    print(\"SELECT MAX(length(`list_cochange`)), MAX(length(`list_used_clones`)), MAX(length(`list_total_clone`)) FROM `list_cc_\"+cd+\"`;\")"
   ]
  },
  {
   "cell_type": "code",
   "execution_count": 11,
   "metadata": {},
   "outputs": [
    {
     "name": "stdout",
     "output_type": "stream",
     "text": [
      "ALTER TABLE `list_cc_conqat` CHANGE `list_cochange` `list_cochange` LONGTEXT CHARACTER SET latin1 COLLATE latin1_swedish_ci NULL DEFAULT NULL, CHANGE `list_used_clones` `list_used_clones` LONGTEXT CHARACTER SET latin1 COLLATE latin1_swedish_ci NULL DEFAULT NULL, CHANGE `list_total_clone` `list_total_clone` LONGTEXT CHARACTER SET latin1 COLLATE latin1_swedish_ci NULL DEFAULT NULL;\n",
      "\n",
      "ALTER TABLE `list_cc_deckard_2_0` CHANGE `list_cochange` `list_cochange` LONGTEXT CHARACTER SET latin1 COLLATE latin1_swedish_ci NULL DEFAULT NULL, CHANGE `list_used_clones` `list_used_clones` LONGTEXT CHARACTER SET latin1 COLLATE latin1_swedish_ci NULL DEFAULT NULL, CHANGE `list_total_clone` `list_total_clone` LONGTEXT CHARACTER SET latin1 COLLATE latin1_swedish_ci NULL DEFAULT NULL;\n",
      "\n",
      "ALTER TABLE `list_cc_iclones` CHANGE `list_cochange` `list_cochange` LONGTEXT CHARACTER SET latin1 COLLATE latin1_swedish_ci NULL DEFAULT NULL, CHANGE `list_used_clones` `list_used_clones` LONGTEXT CHARACTER SET latin1 COLLATE latin1_swedish_ci NULL DEFAULT NULL, CHANGE `list_total_clone` `list_total_clone` LONGTEXT CHARACTER SET latin1 COLLATE latin1_swedish_ci NULL DEFAULT NULL;\n",
      "\n",
      "ALTER TABLE `list_cc_nicad5` CHANGE `list_cochange` `list_cochange` LONGTEXT CHARACTER SET latin1 COLLATE latin1_swedish_ci NULL DEFAULT NULL, CHANGE `list_used_clones` `list_used_clones` LONGTEXT CHARACTER SET latin1 COLLATE latin1_swedish_ci NULL DEFAULT NULL, CHANGE `list_total_clone` `list_total_clone` LONGTEXT CHARACTER SET latin1 COLLATE latin1_swedish_ci NULL DEFAULT NULL;\n",
      "\n",
      "ALTER TABLE `list_cc_simcad` CHANGE `list_cochange` `list_cochange` LONGTEXT CHARACTER SET latin1 COLLATE latin1_swedish_ci NULL DEFAULT NULL, CHANGE `list_used_clones` `list_used_clones` LONGTEXT CHARACTER SET latin1 COLLATE latin1_swedish_ci NULL DEFAULT NULL, CHANGE `list_total_clone` `list_total_clone` LONGTEXT CHARACTER SET latin1 COLLATE latin1_swedish_ci NULL DEFAULT NULL;\n",
      "\n",
      "ALTER TABLE `list_cc_simian` CHANGE `list_cochange` `list_cochange` LONGTEXT CHARACTER SET latin1 COLLATE latin1_swedish_ci NULL DEFAULT NULL, CHANGE `list_used_clones` `list_used_clones` LONGTEXT CHARACTER SET latin1 COLLATE latin1_swedish_ci NULL DEFAULT NULL, CHANGE `list_total_clone` `list_total_clone` LONGTEXT CHARACTER SET latin1 COLLATE latin1_swedish_ci NULL DEFAULT NULL;\n",
      "\n"
     ]
    }
   ],
   "source": [
    "for cd in [\"conqat\", \"deckard_2_0\", \"iclones\", \"nicad5\", \"simcad\", \"simian\"]:\n",
    "    #print(\"ALTER TABLE `list_cc_\"+cd+\"` CHANGE `list_total_clone` `list_total_clone` VARCHAR(10000) DEFAULT NULL;\")\n",
    "    print(\"ALTER TABLE `list_cc_\"+cd+\"` CHANGE `list_cochange` `list_cochange` LONGTEXT CHARACTER SET latin1 COLLATE latin1_swedish_ci NULL DEFAULT NULL, CHANGE `list_used_clones` `list_used_clones` LONGTEXT CHARACTER SET latin1 COLLATE latin1_swedish_ci NULL DEFAULT NULL, CHANGE `list_total_clone` `list_total_clone` LONGTEXT CHARACTER SET latin1 COLLATE latin1_swedish_ci NULL DEFAULT NULL;\")\n",
    "    print()"
   ]
  }
 ],
 "metadata": {
  "kernelspec": {
   "display_name": "Python 3",
   "language": "python",
   "name": "python3"
  },
  "language_info": {
   "codemirror_mode": {
    "name": "ipython",
    "version": 3
   },
   "file_extension": ".py",
   "mimetype": "text/x-python",
   "name": "python",
   "nbconvert_exporter": "python",
   "pygments_lexer": "ipython3",
   "version": "3.7.3"
  }
 },
 "nbformat": 4,
 "nbformat_minor": 4
}
